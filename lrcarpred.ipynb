{
 "cells": [
  {
   "cell_type": "code",
   "execution_count": 1,
   "id": "fc4a571e",
   "metadata": {},
   "outputs": [
    {
     "name": "stdout",
     "output_type": "stream",
     "text": [
      "                       name  year  selling_price  km_driven    fuel  \\\n",
      "0             Maruti 800 AC  2007          60000      70000  Petrol   \n",
      "1  Maruti Wagon R LXI Minor  2007         135000      50000  Petrol   \n",
      "2      Hyundai Verna 1.6 SX  2012         600000     100000  Diesel   \n",
      "3    Datsun RediGO T Option  2017         250000      46000  Petrol   \n",
      "4     Honda Amaze VX i-DTEC  2014         450000     141000  Diesel   \n",
      "\n",
      "  seller_type transmission         owner  \n",
      "0  Individual       Manual   First Owner  \n",
      "1  Individual       Manual   First Owner  \n",
      "2  Individual       Manual   First Owner  \n",
      "3  Individual       Manual   First Owner  \n",
      "4  Individual       Manual  Second Owner  \n"
     ]
    }
   ],
   "source": [
    "# Import necessary libraries\n",
    "import pandas as pd\n",
    "import numpy as np\n",
    "import seaborn as sns\n",
    "from sklearn.model_selection import train_test_split\n",
    "from sklearn.linear_model import LinearRegression\n",
    "from sklearn.metrics import mean_squared_error, mean_absolute_error, r2_score\n",
    "import matplotlib.pyplot as plt\n",
    "\n",
    "df = pd.read_csv(r'C:\\Users\\Kousik C\\Downloads\\CARDETAILS.csv')\n",
    "print(df.head())"
   ]
  },
  {
   "cell_type": "markdown",
   "id": "b8099c54",
   "metadata": {},
   "source": [
    "# EDA"
   ]
  },
  {
   "cell_type": "code",
   "execution_count": 2,
   "id": "b4d26002",
   "metadata": {
    "scrolled": true
   },
   "outputs": [
    {
     "data": {
      "text/html": [
       "<div>\n",
       "<style scoped>\n",
       "    .dataframe tbody tr th:only-of-type {\n",
       "        vertical-align: middle;\n",
       "    }\n",
       "\n",
       "    .dataframe tbody tr th {\n",
       "        vertical-align: top;\n",
       "    }\n",
       "\n",
       "    .dataframe thead th {\n",
       "        text-align: right;\n",
       "    }\n",
       "</style>\n",
       "<table border=\"1\" class=\"dataframe\">\n",
       "  <thead>\n",
       "    <tr style=\"text-align: right;\">\n",
       "      <th></th>\n",
       "      <th>name</th>\n",
       "      <th>year</th>\n",
       "      <th>selling_price</th>\n",
       "      <th>km_driven</th>\n",
       "      <th>fuel</th>\n",
       "      <th>seller_type</th>\n",
       "      <th>transmission</th>\n",
       "      <th>owner</th>\n",
       "    </tr>\n",
       "  </thead>\n",
       "  <tbody>\n",
       "    <tr>\n",
       "      <th>0</th>\n",
       "      <td>Maruti 800 AC</td>\n",
       "      <td>2007</td>\n",
       "      <td>60000</td>\n",
       "      <td>70000</td>\n",
       "      <td>Petrol</td>\n",
       "      <td>Individual</td>\n",
       "      <td>Manual</td>\n",
       "      <td>First Owner</td>\n",
       "    </tr>\n",
       "    <tr>\n",
       "      <th>1</th>\n",
       "      <td>Maruti Wagon R LXI Minor</td>\n",
       "      <td>2007</td>\n",
       "      <td>135000</td>\n",
       "      <td>50000</td>\n",
       "      <td>Petrol</td>\n",
       "      <td>Individual</td>\n",
       "      <td>Manual</td>\n",
       "      <td>First Owner</td>\n",
       "    </tr>\n",
       "    <tr>\n",
       "      <th>2</th>\n",
       "      <td>Hyundai Verna 1.6 SX</td>\n",
       "      <td>2012</td>\n",
       "      <td>600000</td>\n",
       "      <td>100000</td>\n",
       "      <td>Diesel</td>\n",
       "      <td>Individual</td>\n",
       "      <td>Manual</td>\n",
       "      <td>First Owner</td>\n",
       "    </tr>\n",
       "    <tr>\n",
       "      <th>3</th>\n",
       "      <td>Datsun RediGO T Option</td>\n",
       "      <td>2017</td>\n",
       "      <td>250000</td>\n",
       "      <td>46000</td>\n",
       "      <td>Petrol</td>\n",
       "      <td>Individual</td>\n",
       "      <td>Manual</td>\n",
       "      <td>First Owner</td>\n",
       "    </tr>\n",
       "    <tr>\n",
       "      <th>4</th>\n",
       "      <td>Honda Amaze VX i-DTEC</td>\n",
       "      <td>2014</td>\n",
       "      <td>450000</td>\n",
       "      <td>141000</td>\n",
       "      <td>Diesel</td>\n",
       "      <td>Individual</td>\n",
       "      <td>Manual</td>\n",
       "      <td>Second Owner</td>\n",
       "    </tr>\n",
       "  </tbody>\n",
       "</table>\n",
       "</div>"
      ],
      "text/plain": [
       "                       name  year  selling_price  km_driven    fuel  \\\n",
       "0             Maruti 800 AC  2007          60000      70000  Petrol   \n",
       "1  Maruti Wagon R LXI Minor  2007         135000      50000  Petrol   \n",
       "2      Hyundai Verna 1.6 SX  2012         600000     100000  Diesel   \n",
       "3    Datsun RediGO T Option  2017         250000      46000  Petrol   \n",
       "4     Honda Amaze VX i-DTEC  2014         450000     141000  Diesel   \n",
       "\n",
       "  seller_type transmission         owner  \n",
       "0  Individual       Manual   First Owner  \n",
       "1  Individual       Manual   First Owner  \n",
       "2  Individual       Manual   First Owner  \n",
       "3  Individual       Manual   First Owner  \n",
       "4  Individual       Manual  Second Owner  "
      ]
     },
     "execution_count": 2,
     "metadata": {},
     "output_type": "execute_result"
    }
   ],
   "source": [
    "df.head()"
   ]
  },
  {
   "cell_type": "code",
   "execution_count": 3,
   "id": "a587aba4",
   "metadata": {},
   "outputs": [
    {
     "data": {
      "text/plain": [
       "(4340, 8)"
      ]
     },
     "execution_count": 3,
     "metadata": {},
     "output_type": "execute_result"
    }
   ],
   "source": [
    "df.shape"
   ]
  },
  {
   "cell_type": "code",
   "execution_count": 4,
   "id": "40d963aa",
   "metadata": {},
   "outputs": [
    {
     "data": {
      "text/plain": [
       "fuel\n",
       "Diesel      2153\n",
       "Petrol      2123\n",
       "CNG           40\n",
       "LPG           23\n",
       "Electric       1\n",
       "Name: count, dtype: int64"
      ]
     },
     "execution_count": 4,
     "metadata": {},
     "output_type": "execute_result"
    }
   ],
   "source": [
    "df.fuel.value_counts()"
   ]
  },
  {
   "cell_type": "code",
   "execution_count": 5,
   "id": "393b363b",
   "metadata": {},
   "outputs": [
    {
     "data": {
      "text/plain": [
       "owner\n",
       "First Owner             2832\n",
       "Second Owner            1106\n",
       "Third Owner              304\n",
       "Fourth & Above Owner      81\n",
       "Test Drive Car            17\n",
       "Name: count, dtype: int64"
      ]
     },
     "execution_count": 5,
     "metadata": {},
     "output_type": "execute_result"
    }
   ],
   "source": [
    "df.owner.value_counts()"
   ]
  },
  {
   "cell_type": "code",
   "execution_count": 6,
   "id": "13a7c35b",
   "metadata": {},
   "outputs": [
    {
     "data": {
      "text/plain": [
       "transmission\n",
       "Manual       3892\n",
       "Automatic     448\n",
       "Name: count, dtype: int64"
      ]
     },
     "execution_count": 6,
     "metadata": {},
     "output_type": "execute_result"
    }
   ],
   "source": [
    "df.transmission.value_counts()"
   ]
  },
  {
   "cell_type": "code",
   "execution_count": 7,
   "id": "fcee7a2c",
   "metadata": {},
   "outputs": [
    {
     "data": {
      "text/plain": [
       "seller_type\n",
       "Individual          3244\n",
       "Dealer               994\n",
       "Trustmark Dealer     102\n",
       "Name: count, dtype: int64"
      ]
     },
     "execution_count": 7,
     "metadata": {},
     "output_type": "execute_result"
    }
   ],
   "source": [
    "df.seller_type.value_counts()"
   ]
  },
  {
   "cell_type": "code",
   "execution_count": 8,
   "id": "2c792fbe",
   "metadata": {},
   "outputs": [
    {
     "data": {
      "text/plain": [
       "name             0\n",
       "year             0\n",
       "selling_price    0\n",
       "km_driven        0\n",
       "fuel             0\n",
       "seller_type      0\n",
       "transmission     0\n",
       "owner            0\n",
       "dtype: int64"
      ]
     },
     "execution_count": 8,
     "metadata": {},
     "output_type": "execute_result"
    }
   ],
   "source": [
    "df.isnull().sum()"
   ]
  },
  {
   "cell_type": "code",
   "execution_count": 9,
   "id": "e2480b56",
   "metadata": {
    "scrolled": true
   },
   "outputs": [
    {
     "data": {
      "text/plain": [
       "<Axes: >"
      ]
     },
     "execution_count": 9,
     "metadata": {},
     "output_type": "execute_result"
    },
    {
     "data": {
      "image/png": "[encoded data removed]",
      "text/plain": [
       "<Figure size 640x480 with 1 Axes>"
      ]
     },
     "metadata": {},
     "output_type": "display_data"
    }
   ],
   "source": [
    "df.boxplot()"
   ]
  },
  {
   "cell_type": "markdown",
   "id": "d3ae506f",
   "metadata": {},
   "source": [
    "# DATA PREPROCESSING"
   ]
  },
  {
   "cell_type": "code",
   "execution_count": 10,
   "id": "5641eef8",
   "metadata": {},
   "outputs": [],
   "source": [
    "df.replace({'fuel':{'Petrol':0,'Diesel':1,'CNG':2,'LPG':3,'Electric':4}},inplace=True)\n",
    "df.replace({'seller_type':{'Individual':0,'Dealer':1,'Trustmark Dealer':2}},inplace=True)\n",
    "df.replace({'owner':{'Test Drive Car':0,'First Owner':1,'Second Owner':2,'Third Owner':3,'Fourth & Above Owner':4}},inplace=True)\n",
    "df.replace({'transmission':{'Manual':0,'Automatic':1}},inplace=True)"
   ]
  },
  {
   "cell_type": "code",
   "execution_count": 11,
   "id": "0f5260b9",
   "metadata": {},
   "outputs": [],
   "source": [
    "x=df.drop(['name','owner'],axis=1)"
   ]
  },
  {
   "cell_type": "code",
   "execution_count": 12,
   "id": "a2300593",
   "metadata": {},
   "outputs": [],
   "source": [
    "y=df['owner']"
   ]
  },
  {
   "cell_type": "code",
   "execution_count": 13,
   "id": "09ba7b31",
   "metadata": {},
   "outputs": [],
   "source": [
    "from sklearn.preprocessing import StandardScaler"
   ]
  },
  {
   "cell_type": "code",
   "execution_count": 14,
   "id": "b6629701",
   "metadata": {},
   "outputs": [],
   "source": [
    "sc = StandardScaler()"
   ]
  },
  {
   "cell_type": "code",
   "execution_count": 15,
   "id": "cb877f85",
   "metadata": {},
   "outputs": [],
   "source": [
    "x_sc = sc.fit_transform(x)"
   ]
  },
  {
   "cell_type": "code",
   "execution_count": 16,
   "id": "b15b6516",
   "metadata": {},
   "outputs": [],
   "source": [
    "x_sc = pd.DataFrame(x_sc, columns=x.columns)"
   ]
  },
  {
   "cell_type": "code",
   "execution_count": 17,
   "id": "76ae7c97",
   "metadata": {},
   "outputs": [
    {
     "data": {
      "text/html": [
       "<div>\n",
       "<style scoped>\n",
       "    .dataframe tbody tr th:only-of-type {\n",
       "        vertical-align: middle;\n",
       "    }\n",
       "\n",
       "    .dataframe tbody tr th {\n",
       "        vertical-align: top;\n",
       "    }\n",
       "\n",
       "    .dataframe thead th {\n",
       "        text-align: right;\n",
       "    }\n",
       "</style>\n",
       "<table border=\"1\" class=\"dataframe\">\n",
       "  <thead>\n",
       "    <tr style=\"text-align: right;\">\n",
       "      <th></th>\n",
       "      <th>year</th>\n",
       "      <th>selling_price</th>\n",
       "      <th>km_driven</th>\n",
       "      <th>fuel</th>\n",
       "      <th>seller_type</th>\n",
       "      <th>transmission</th>\n",
       "    </tr>\n",
       "  </thead>\n",
       "  <tbody>\n",
       "    <tr>\n",
       "      <th>0</th>\n",
       "      <td>-1.445074</td>\n",
       "      <td>-0.767746</td>\n",
       "      <td>0.081139</td>\n",
       "      <td>-0.966844</td>\n",
       "      <td>-0.555591</td>\n",
       "      <td>-0.339276</td>\n",
       "    </tr>\n",
       "    <tr>\n",
       "      <th>1</th>\n",
       "      <td>-1.445074</td>\n",
       "      <td>-0.638096</td>\n",
       "      <td>-0.347689</td>\n",
       "      <td>-0.966844</td>\n",
       "      <td>-0.555591</td>\n",
       "      <td>-0.339276</td>\n",
       "    </tr>\n",
       "    <tr>\n",
       "      <th>2</th>\n",
       "      <td>-0.258795</td>\n",
       "      <td>0.165731</td>\n",
       "      <td>0.724381</td>\n",
       "      <td>0.852802</td>\n",
       "      <td>-0.555591</td>\n",
       "      <td>-0.339276</td>\n",
       "    </tr>\n",
       "    <tr>\n",
       "      <th>3</th>\n",
       "      <td>0.927485</td>\n",
       "      <td>-0.439300</td>\n",
       "      <td>-0.433455</td>\n",
       "      <td>-0.966844</td>\n",
       "      <td>-0.555591</td>\n",
       "      <td>-0.339276</td>\n",
       "    </tr>\n",
       "    <tr>\n",
       "      <th>4</th>\n",
       "      <td>0.215717</td>\n",
       "      <td>-0.093568</td>\n",
       "      <td>1.603479</td>\n",
       "      <td>0.852802</td>\n",
       "      <td>-0.555591</td>\n",
       "      <td>-0.339276</td>\n",
       "    </tr>\n",
       "  </tbody>\n",
       "</table>\n",
       "</div>"
      ],
      "text/plain": [
       "       year  selling_price  km_driven      fuel  seller_type  transmission\n",
       "0 -1.445074      -0.767746   0.081139 -0.966844    -0.555591     -0.339276\n",
       "1 -1.445074      -0.638096  -0.347689 -0.966844    -0.555591     -0.339276\n",
       "2 -0.258795       0.165731   0.724381  0.852802    -0.555591     -0.339276\n",
       "3  0.927485      -0.439300  -0.433455 -0.966844    -0.555591     -0.339276\n",
       "4  0.215717      -0.093568   1.603479  0.852802    -0.555591     -0.339276"
      ]
     },
     "execution_count": 17,
     "metadata": {},
     "output_type": "execute_result"
    }
   ],
   "source": [
    "x_sc.head(5)"
   ]
  },
  {
   "cell_type": "code",
   "execution_count": 18,
   "id": "d5943d7e",
   "metadata": {},
   "outputs": [],
   "source": [
    "from sklearn.preprocessing import LabelEncoder"
   ]
  },
  {
   "cell_type": "code",
   "execution_count": 19,
   "id": "0fc74dfb",
   "metadata": {},
   "outputs": [],
   "source": [
    "le = LabelEncoder()"
   ]
  },
  {
   "cell_type": "code",
   "execution_count": 20,
   "id": "de214dab",
   "metadata": {},
   "outputs": [],
   "source": [
    "yle = le.fit_transform(y)"
   ]
  },
  {
   "cell_type": "code",
   "execution_count": 21,
   "id": "b25ebe98",
   "metadata": {},
   "outputs": [
    {
     "data": {
      "text/plain": [
       "array([1, 1, 1, ..., 2, 1, 1], dtype=int64)"
      ]
     },
     "execution_count": 21,
     "metadata": {},
     "output_type": "execute_result"
    }
   ],
   "source": [
    "yle"
   ]
  },
  {
   "cell_type": "markdown",
   "id": "4deb5f95",
   "metadata": {},
   "source": [
    "# LOGISTIC REGRESSION"
   ]
  },
  {
   "cell_type": "code",
   "execution_count": 22,
   "id": "d397f6d4",
   "metadata": {},
   "outputs": [],
   "source": [
    "from sklearn.model_selection import train_test_split"
   ]
  },
  {
   "cell_type": "code",
   "execution_count": 23,
   "id": "dc1e056b",
   "metadata": {},
   "outputs": [],
   "source": [
    "xtrain, xtest, ytrain, ytest = train_test_split(x_sc, yle, test_size=0.2)"
   ]
  },
  {
   "cell_type": "code",
   "execution_count": 24,
   "id": "cb6f0cb6",
   "metadata": {},
   "outputs": [],
   "source": [
    "from sklearn.linear_model import LogisticRegression"
   ]
  },
  {
   "cell_type": "code",
   "execution_count": 25,
   "id": "84549ce1",
   "metadata": {},
   "outputs": [],
   "source": [
    "lr = LogisticRegression()"
   ]
  },
  {
   "cell_type": "code",
   "execution_count": 26,
   "id": "8745870d",
   "metadata": {},
   "outputs": [
    {
     "name": "stderr",
     "output_type": "stream",
     "text": [
      "C:\\Users\\Kousik C\\anaconda3\\Lib\\site-packages\\sklearn\\linear_model\\_logistic.py:460: ConvergenceWarning: lbfgs failed to converge (status=1):\n",
      "STOP: TOTAL NO. of ITERATIONS REACHED LIMIT.\n",
      "\n",
      "Increase the number of iterations (max_iter) or scale the data as shown in:\n",
      "    https://scikit-learn.org/stable/modules/preprocessing.html\n",
      "Please also refer to the documentation for alternative solver options:\n",
      "    https://scikit-learn.org/stable/modules/linear_model.html#logistic-regression\n",
      "  n_iter_i = _check_optimize_result(\n"
     ]
    }
   ],
   "source": [
    "model = lr.fit(xtrain, ytrain)"
   ]
  },
  {
   "cell_type": "code",
   "execution_count": 27,
   "id": "a12ed51b",
   "metadata": {},
   "outputs": [
    {
     "data": {
      "text/plain": [
       "array([1, 2, 2, ..., 1, 1, 1], dtype=int64)"
      ]
     },
     "execution_count": 27,
     "metadata": {},
     "output_type": "execute_result"
    }
   ],
   "source": [
    "logreg_train_pred = model.predict(xtrain)\n",
    "logreg_train_pred"
   ]
  },
  {
   "cell_type": "code",
   "execution_count": 28,
   "id": "22ecda3d",
   "metadata": {},
   "outputs": [],
   "source": [
    "logreg_test_pred = model.predict(xtest)"
   ]
  },
  {
   "cell_type": "markdown",
   "id": "e657c401",
   "metadata": {},
   "source": [
    "# Performance metric for Logistic Regression"
   ]
  },
  {
   "cell_type": "code",
   "execution_count": 29,
   "id": "0e7063ca",
   "metadata": {},
   "outputs": [],
   "source": [
    "from sklearn.metrics import accuracy_score, confusion_matrix, classification_report"
   ]
  },
  {
   "cell_type": "code",
   "execution_count": 30,
   "id": "92b21de5",
   "metadata": {},
   "outputs": [],
   "source": [
    "logreg_train_acc = accuracy_score(ytrain, logreg_train_pred)"
   ]
  },
  {
   "cell_type": "code",
   "execution_count": 31,
   "id": "f48807ee",
   "metadata": {},
   "outputs": [
    {
     "name": "stdout",
     "output_type": "stream",
     "text": [
      "Logistic Regression Training - Accuracy Score: 0.6800115207373272\n"
     ]
    }
   ],
   "source": [
    "print(\"Logistic Regression Training - Accuracy Score: {}\".format(logreg_train_acc))"
   ]
  },
  {
   "cell_type": "code",
   "execution_count": 32,
   "id": "ffb55472",
   "metadata": {},
   "outputs": [],
   "source": [
    "logreg_test_acc = accuracy_score(ytest, logreg_test_pred)"
   ]
  },
  {
   "cell_type": "code",
   "execution_count": 33,
   "id": "9170d7c7",
   "metadata": {},
   "outputs": [
    {
     "name": "stdout",
     "output_type": "stream",
     "text": [
      "Logistic Regression Testing - Accuracy Score: 0.695852534562212\n"
     ]
    }
   ],
   "source": [
    "print(\"Logistic Regression Testing - Accuracy Score: {}\".format(logreg_test_acc))"
   ]
  },
  {
   "cell_type": "code",
   "execution_count": 34,
   "id": "5be3d037",
   "metadata": {},
   "outputs": [
    {
     "name": "stderr",
     "output_type": "stream",
     "text": [
      "C:\\Users\\Kousik C\\anaconda3\\Lib\\site-packages\\sklearn\\metrics\\_classification.py:1469: UndefinedMetricWarning: Precision and F-score are ill-defined and being set to 0.0 in labels with no predicted samples. Use `zero_division` parameter to control this behavior.\n",
      "  _warn_prf(average, modifier, msg_start, len(result))\n",
      "C:\\Users\\Kousik C\\anaconda3\\Lib\\site-packages\\sklearn\\metrics\\_classification.py:1469: UndefinedMetricWarning: Precision and F-score are ill-defined and being set to 0.0 in labels with no predicted samples. Use `zero_division` parameter to control this behavior.\n",
      "  _warn_prf(average, modifier, msg_start, len(result))\n",
      "C:\\Users\\Kousik C\\anaconda3\\Lib\\site-packages\\sklearn\\metrics\\_classification.py:1469: UndefinedMetricWarning: Precision and F-score are ill-defined and being set to 0.0 in labels with no predicted samples. Use `zero_division` parameter to control this behavior.\n",
      "  _warn_prf(average, modifier, msg_start, len(result))\n"
     ]
    }
   ],
   "source": [
    "logreg_train_cr = classification_report(ytrain, logreg_train_pred)"
   ]
  },
  {
   "cell_type": "code",
   "execution_count": 35,
   "id": "df01274b",
   "metadata": {},
   "outputs": [
    {
     "name": "stdout",
     "output_type": "stream",
     "text": [
      "Logistic Regression Training - Classification Report \n",
      "               precision    recall  f1-score   support\n",
      "\n",
      "           0       0.00      0.00      0.00        14\n",
      "           1       0.74      0.91      0.81      2270\n",
      "           2       0.44      0.34      0.38       882\n",
      "           3       0.33      0.00      0.01       239\n",
      "           4       1.00      0.01      0.03        67\n",
      "\n",
      "    accuracy                           0.68      3472\n",
      "   macro avg       0.50      0.25      0.25      3472\n",
      "weighted avg       0.64      0.68      0.63      3472\n",
      "\n"
     ]
    }
   ],
   "source": [
    "print(\"Logistic Regression Training - Classification Report \\n\", logreg_train_cr)"
   ]
  },
  {
   "cell_type": "code",
   "execution_count": 36,
   "id": "7c1b44c4",
   "metadata": {},
   "outputs": [
    {
     "name": "stderr",
     "output_type": "stream",
     "text": [
      "C:\\Users\\Kousik C\\anaconda3\\Lib\\site-packages\\sklearn\\metrics\\_classification.py:1469: UndefinedMetricWarning: Precision and F-score are ill-defined and being set to 0.0 in labels with no predicted samples. Use `zero_division` parameter to control this behavior.\n",
      "  _warn_prf(average, modifier, msg_start, len(result))\n",
      "C:\\Users\\Kousik C\\anaconda3\\Lib\\site-packages\\sklearn\\metrics\\_classification.py:1469: UndefinedMetricWarning: Precision and F-score are ill-defined and being set to 0.0 in labels with no predicted samples. Use `zero_division` parameter to control this behavior.\n",
      "  _warn_prf(average, modifier, msg_start, len(result))\n",
      "C:\\Users\\Kousik C\\anaconda3\\Lib\\site-packages\\sklearn\\metrics\\_classification.py:1469: UndefinedMetricWarning: Precision and F-score are ill-defined and being set to 0.0 in labels with no predicted samples. Use `zero_division` parameter to control this behavior.\n",
      "  _warn_prf(average, modifier, msg_start, len(result))\n"
     ]
    }
   ],
   "source": [
    "logreg_test_cr = classification_report(ytest, logreg_test_pred)"
   ]
  },
  {
   "cell_type": "code",
   "execution_count": 37,
   "id": "d2dffbf1",
   "metadata": {},
   "outputs": [
    {
     "name": "stdout",
     "output_type": "stream",
     "text": [
      "Logistic Regression Testing - Classification Report \n",
      "               precision    recall  f1-score   support\n",
      "\n",
      "           0       0.00      0.00      0.00         3\n",
      "           1       0.75      0.93      0.83       562\n",
      "           2       0.49      0.37      0.42       224\n",
      "           3       1.00      0.02      0.03        65\n",
      "           4       0.00      0.00      0.00        14\n",
      "\n",
      "    accuracy                           0.70       868\n",
      "   macro avg       0.45      0.26      0.25       868\n",
      "weighted avg       0.68      0.70      0.65       868\n",
      "\n"
     ]
    }
   ],
   "source": [
    "print(\"Logistic Regression Testing - Classification Report \\n\", logreg_test_cr)"
   ]
  },
  {
   "cell_type": "code",
   "execution_count": 38,
   "id": "3aa9ee60",
   "metadata": {},
   "outputs": [],
   "source": [
    "logreg_train_cm = confusion_matrix(ytrain, logreg_train_pred)"
   ]
  },
  {
   "cell_type": "code",
   "execution_count": 39,
   "id": "add4e610",
   "metadata": {},
   "outputs": [
    {
     "name": "stdout",
     "output_type": "stream",
     "text": [
      "Logistic Regression Training - Confusion Matrix \n",
      " [[   0   14    0    0    0]\n",
      " [   0 2059  209    2    0]\n",
      " [   0  582  300    0    0]\n",
      " [   0  108  130    1    0]\n",
      " [   0   21   45    0    1]]\n"
     ]
    }
   ],
   "source": [
    "print(\"Logistic Regression Training - Confusion Matrix \\n\", logreg_train_cm)"
   ]
  },
  {
   "cell_type": "code",
   "execution_count": 40,
   "id": "e6f587ea",
   "metadata": {
    "scrolled": true
   },
   "outputs": [
    {
     "data": {
      "image/png": "[encoded data removed]",
      "text/plain": [
       "<Figure size 640x480 with 2 Axes>"
      ]
     },
     "metadata": {},
     "output_type": "display_data"
    }
   ],
   "source": [
    "sns.heatmap(logreg_train_cm, annot=True, cmap = 'Spectral')\n",
    "plt.xlabel('Prediction')\n",
    "plt.ylabel('Target')\n",
    "plt.title('Logistic Regression Training - Confusion Matrix')\n",
    "plt.show()"
   ]
  },
  {
   "cell_type": "markdown",
   "id": "a7176397",
   "metadata": {},
   "source": [
    "# DT Regressor Selling Price"
   ]
  },
  {
   "cell_type": "code",
   "execution_count": 41,
   "id": "12d86a11",
   "metadata": {},
   "outputs": [],
   "source": [
    "x1=df.drop(['name','selling_price'],axis=1)"
   ]
  },
  {
   "cell_type": "code",
   "execution_count": 42,
   "id": "63b14344",
   "metadata": {},
   "outputs": [],
   "source": [
    "y1=df['selling_price']"
   ]
  },
  {
   "cell_type": "code",
   "execution_count": 43,
   "id": "55954323",
   "metadata": {},
   "outputs": [],
   "source": [
    "from sklearn.tree import DecisionTreeRegressor"
   ]
  },
  {
   "cell_type": "code",
   "execution_count": 44,
   "id": "59bbac35",
   "metadata": {},
   "outputs": [],
   "source": [
    "dt = DecisionTreeRegressor()"
   ]
  },
  {
   "cell_type": "code",
   "execution_count": 45,
   "id": "32d02e41",
   "metadata": {},
   "outputs": [],
   "source": [
    "x_sc1 = sc.fit_transform(x1)"
   ]
  },
  {
   "cell_type": "code",
   "execution_count": 46,
   "id": "8ee0badc",
   "metadata": {},
   "outputs": [],
   "source": [
    "x_sc1 = pd.DataFrame(x_sc1, columns=x1.columns)"
   ]
  },
  {
   "cell_type": "code",
   "execution_count": 47,
   "id": "7c988e10",
   "metadata": {},
   "outputs": [],
   "source": [
    "yle1 = le.fit_transform(y1)"
   ]
  },
  {
   "cell_type": "code",
   "execution_count": 48,
   "id": "26ab0e77",
   "metadata": {},
   "outputs": [],
   "source": [
    "x1train, x1test, y1train, y1test = train_test_split(x_sc1, yle1, test_size=0.2)"
   ]
  },
  {
   "cell_type": "code",
   "execution_count": 49,
   "id": "02310557",
   "metadata": {},
   "outputs": [],
   "source": [
    "dt_mod = dt.fit(x1train, y1train)"
   ]
  },
  {
   "cell_type": "code",
   "execution_count": 50,
   "id": "7e421619",
   "metadata": {},
   "outputs": [],
   "source": [
    "dt_train_pred = dt_mod.predict(x1train)"
   ]
  },
  {
   "cell_type": "code",
   "execution_count": 51,
   "id": "5e74650f",
   "metadata": {},
   "outputs": [
    {
     "data": {
      "text/plain": [
       "array([ 31.        , 262.16666667, 193.        , ..., 104.        ,\n",
       "        57.        , 264.        ])"
      ]
     },
     "execution_count": 51,
     "metadata": {},
     "output_type": "execute_result"
    }
   ],
   "source": [
    "dt_train_pred"
   ]
  },
  {
   "cell_type": "code",
   "execution_count": 52,
   "id": "a3a7c0f0",
   "metadata": {},
   "outputs": [],
   "source": [
    "dt_test_pred = dt_mod.predict(x1test)"
   ]
  },
  {
   "cell_type": "code",
   "execution_count": 53,
   "id": "3368d25d",
   "metadata": {},
   "outputs": [
    {
     "data": {
      "text/plain": [
       "array([130.        ,  55.25      ,  99.        ,  57.8       ,\n",
       "       222.        ,  80.        ,  88.5       ,  80.        ,\n",
       "       215.        , 156.        ,  52.        , 161.        ,\n",
       "       202.16666667, 252.        , 365.        , 178.        ,\n",
       "       245.        , 161.        , 314.66666667, 222.        ,\n",
       "       106.33333333,  39.2       , 285.        , 264.36363636,\n",
       "       177.        , 421.        , 250.75      ,  20.        ,\n",
       "       111.16666667, 177.        ,  77.        , 324.        ,\n",
       "       133.375     , 153.5       , 171.66666667, 131.25      ,\n",
       "       181.4       , 322.        , 122.        , 345.        ,\n",
       "       384.        , 114.        , 211.2       ,  57.        ,\n",
       "        81.14285714, 372.        , 130.        , 161.        ,\n",
       "       149.        , 441.        , 203.        , 156.        ,\n",
       "       228.66666667, 208.        , 217.        , 161.        ,\n",
       "       191.        , 147.        , 264.        , 148.5       ,\n",
       "       285.        ,  41.        , 106.28571429, 102.        ,\n",
       "       437.        , 257.        , 331.        ,  57.8       ,\n",
       "       123.        , 148.        , 236.        , 137.        ,\n",
       "       302.85714286, 208.        , 211.2       , 345.        ,\n",
       "       137.        ,  70.        , 137.        , 222.        ,\n",
       "       100.        , 298.        ,  55.25      , 122.        ,\n",
       "        72.        , 198.        ,  86.5       , 104.        ,\n",
       "       156.        , 207.        , 188.4       , 144.        ,\n",
       "       198.        , 433.        ,  72.        , 173.        ,\n",
       "        75.        , 144.        , 223.        ,  35.        ,\n",
       "        41.        , 193.        , 118.77777778,  23.        ,\n",
       "       148.        ,  65.5       ,  41.        ,  34.        ,\n",
       "        46.        , 358.        , 193.        , 407.        ,\n",
       "       100.        , 309.        ,  76.        ,  80.        ,\n",
       "        94.        , 214.16666667, 165.        , 393.        ,\n",
       "       264.66666667, 208.        , 222.        , 137.        ,\n",
       "       160.5       , 147.        , 109.        , 282.        ,\n",
       "       152.        , 258.        , 254.        ,  31.        ,\n",
       "        55.        , 161.        ,  79.4       , 193.        ,\n",
       "       252.        ,  92.        , 137.        , 138.        ,\n",
       "        68.        , 384.        , 175.5       , 181.4       ,\n",
       "       204.        , 176.        , 155.66666667,  34.        ,\n",
       "       147.        , 393.        , 208.        ,  72.        ,\n",
       "       124.        , 383.        , 207.75      , 143.66666667,\n",
       "       221.375     , 206.        ,  72.        ,  23.        ,\n",
       "       215.        ,  94.        , 229.        , 103.33333333,\n",
       "        27.        , 189.33333333, 264.36363636, 133.        ,\n",
       "        52.        ,  36.        ,  68.        , 225.5       ,\n",
       "       218.        , 160.5       , 171.        , 252.        ,\n",
       "        96.        , 413.        , 161.        ,  31.        ,\n",
       "       426.        , 137.        , 395.        , 143.        ,\n",
       "       311.71428571,  68.        ,   9.        , 148.        ,\n",
       "        81.14285714,  52.        ,  68.        , 123.83333333,\n",
       "       210.63636364,  86.        , 135.27272727, 208.        ,\n",
       "       147.        , 282.        , 176.        , 151.72727273,\n",
       "       288.        , 133.        ,  68.        , 174.8125    ,\n",
       "       240.        ,  76.        , 187.5       ,  99.        ,\n",
       "       189.33333333, 203.        , 351.        ,  76.        ,\n",
       "       195.        , 195.        ,  69.33333333, 135.66666667,\n",
       "        92.        , 138.        , 321.        , 255.        ,\n",
       "         8.        , 120.        , 129.        , 106.25      ,\n",
       "        89.        ,  92.        , 295.5       ,  17.        ,\n",
       "        89.8       , 326.6       , 161.        , 222.        ,\n",
       "        49.        , 360.        , 187.        , 104.        ,\n",
       "       207.        , 313.        , 276.        , 109.        ,\n",
       "       421.        , 193.        , 217.        , 177.        ,\n",
       "        44.        , 206.5       ,  80.        ,  70.        ,\n",
       "        17.        , 143.66666667, 162.5       ,  48.2       ,\n",
       "       389.        , 130.        , 195.75      , 215.6       ,\n",
       "       177.        ,  96.        , 252.        , 355.        ,\n",
       "       257.        , 392.        , 202.16666667, 204.        ,\n",
       "        70.        , 167.        , 111.16666667, 228.66666667,\n",
       "       181.4       , 193.        ,  94.        , 187.        ,\n",
       "        62.        , 184.        , 298.5       ,  78.        ,\n",
       "        48.        , 122.        , 121.5       , 123.5       ,\n",
       "       164.2       ,  73.        , 214.16666667, 127.33333333,\n",
       "       100.2       , 362.        ,  62.        , 156.        ,\n",
       "        94.        , 283.        , 152.        , 240.8       ,\n",
       "       126.        , 143.5       , 101.75      , 338.25      ,\n",
       "       244.81818182, 392.        , 144.        , 130.        ,\n",
       "        94.        , 137.        , 196.33333333, 346.        ,\n",
       "       252.        , 305.        , 177.        , 114.        ,\n",
       "        80.        , 107.        , 228.        , 130.        ,\n",
       "        61.        , 200.        ,  80.        , 362.        ,\n",
       "       188.66666667, 114.        , 226.5       ,  65.        ,\n",
       "        96.        , 283.        , 355.        , 169.        ,\n",
       "        77.        , 268.        ,  27.        , 372.        ,\n",
       "       181.4       , 264.        , 188.66666667,  68.        ,\n",
       "       240.        , 156.        , 372.        , 100.5       ,\n",
       "       196.33333333, 252.        , 250.33333333, 297.5       ,\n",
       "       207.        , 228.66666667,  23.        ,  91.        ,\n",
       "        82.33333333, 331.        , 222.        , 372.        ,\n",
       "        55.        , 398.        ,  73.        , 372.        ,\n",
       "       155.16666667, 123.83333333,  99.25      , 309.        ,\n",
       "       302.85714286,  78.        ,  80.        ,  31.        ,\n",
       "       218.        , 362.        ,  57.33333333, 217.        ,\n",
       "       282.        , 138.        , 236.        ,  70.        ,\n",
       "       137.        , 119.        , 236.        ,  91.        ,\n",
       "       195.        , 104.81818182, 202.33333333,  23.        ,\n",
       "       218.        , 252.        , 244.81818182, 315.5       ,\n",
       "       201.        , 241.        , 337.        ,  50.        ,\n",
       "       187.        ,  49.5       , 187.        , 305.        ,\n",
       "       182.        ,  93.        , 441.        ,  57.        ,\n",
       "       102.66666667, 156.        , 315.5       ,  42.33333333,\n",
       "       214.5       ,  27.        , 236.        , 231.        ,\n",
       "       291.5       , 338.        , 184.        , 422.33333333,\n",
       "       176.        ,   5.        , 114.        , 143.5       ,\n",
       "       114.        , 153.        , 167.375     , 193.        ,\n",
       "       400.        , 264.        , 207.66666667,  98.2       ,\n",
       "       122.        , 328.71428571, 148.        , 137.        ,\n",
       "       173.33333333, 433.        , 247.5       ,  80.        ,\n",
       "       424.        , 195.        , 115.        , 367.        ,\n",
       "       420.        ,  88.        , 211.2       , 185.        ,\n",
       "        92.        , 190.        , 214.5       , 147.        ,\n",
       "       137.        ,  68.        , 152.        , 264.        ,\n",
       "       115.        ,  31.        , 208.        ,  68.        ,\n",
       "       153.5       , 111.        ,  27.        , 269.42857143,\n",
       "       207.        ,  85.        , 203.        , 328.71428571,\n",
       "       441.        , 252.        ,  72.        ,  17.        ,\n",
       "       194.5       , 148.        , 187.        , 133.        ,\n",
       "       118.77777778, 118.        , 282.        , 176.        ,\n",
       "        61.        ,  56.57142857, 222.        ,  55.        ,\n",
       "       251.25      , 259.        ,  68.75      ,  41.        ,\n",
       "        27.        ,  68.        , 161.        ,  73.        ,\n",
       "       104.        , 123.        , 207.75      ,  64.        ,\n",
       "       110.        ,  94.        , 218.        , 193.        ,\n",
       "       111.83333333,  31.        ,  62.        ,  46.        ,\n",
       "       160.4       , 131.25      , 113.        , 245.4       ,\n",
       "       156.        , 199.33333333, 156.        , 123.83333333,\n",
       "        69.33333333, 156.        , 161.        , 144.        ,\n",
       "       193.        , 189.33333333, 171.        ,  68.        ,\n",
       "       193.        ,  62.        , 215.        , 128.        ,\n",
       "       224.        , 355.        ,  76.        ,  52.        ,\n",
       "       328.75      , 212.8       , 252.        , 155.66666667,\n",
       "        37.        , 178.        , 182.        , 432.        ,\n",
       "       193.        , 167.        , 313.        , 274.        ,\n",
       "        96.        ,  84.        ,  31.        , 391.        ,\n",
       "        57.        , 104.        , 214.16666667, 143.5       ,\n",
       "       173.33333333, 118.        , 171.75      , 193.        ,\n",
       "       112.66666667, 114.        , 116.        , 360.        ,\n",
       "        61.        ,  57.        , 137.        ,  99.        ,\n",
       "       260.        , 133.        , 190.        , 106.2       ,\n",
       "       245.        , 102.        ,  36.        ,  99.        ,\n",
       "       137.        , 193.        ,  18.        , 143.        ,\n",
       "        56.57142857, 172.        , 207.        , 166.        ,\n",
       "       264.66666667,  23.        , 278.25      ,  61.        ,\n",
       "        42.        , 225.5       , 106.33333333, 121.5       ,\n",
       "        83.        , 282.        , 156.        , 229.        ,\n",
       "       130.        ,  23.        , 216.5       , 152.        ,\n",
       "       122.        , 264.36363636,  89.        , 424.        ,\n",
       "       193.        , 104.        ,  42.33333333, 208.        ,\n",
       "       252.2       , 141.        , 200.        , 222.        ,\n",
       "       121.5       , 165.        , 118.        , 304.        ,\n",
       "       128.        ,  55.        , 252.        , 131.25      ,\n",
       "       332.        , 147.        , 173.        , 100.        ,\n",
       "       162.5       , 132.25      ,  60.        , 328.71428571,\n",
       "       208.        , 252.        , 176.        , 111.83333333,\n",
       "        68.        , 193.        , 102.        , 218.        ,\n",
       "       184.        ,  45.        , 193.        ,  48.        ,\n",
       "       285.4       , 264.        , 195.        ,  68.        ,\n",
       "       256.77777778, 245.        , 193.        , 210.63636364,\n",
       "        76.        ,  91.        ,  72.        , 424.        ,\n",
       "        80.        , 176.33333333, 127.33333333,  84.        ,\n",
       "       217.        ,  80.5       , 116.        ,  96.        ,\n",
       "       228.66666667, 126.        , 221.375     , 208.        ,\n",
       "         3.        , 110.        , 262.44444444, 391.        ,\n",
       "       247.        ,   7.        , 222.        , 236.        ,\n",
       "       118.        , 193.        ,  42.33333333, 252.        ,\n",
       "       167.375     , 229.        , 163.        , 130.        ,\n",
       "       167.375     , 137.        , 225.5       , 276.        ,\n",
       "       126.        , 123.        , 143.66666667, 184.        ,\n",
       "       120.33333333, 372.        , 104.81818182, 148.        ,\n",
       "       135.27272727, 137.        , 243.        ,  23.        ,\n",
       "       251.25      , 130.        , 222.        , 141.        ,\n",
       "        99.        ,  57.        ,  48.2       , 190.        ,\n",
       "       171.75      , 212.8       , 308.5       , 264.66666667,\n",
       "        68.        , 328.71428571, 305.        , 208.        ,\n",
       "       315.5       , 441.        , 222.        , 196.33333333,\n",
       "       207.        ,  80.        ,  48.2       , 252.        ,\n",
       "       146.5       ,  80.        ,  30.        ,  98.125     ,\n",
       "        45.        ,  41.        ,  45.        , 122.2       ,\n",
       "        27.        , 314.66666667, 122.        ,  57.        ,\n",
       "        68.        , 194.5       , 252.        , 193.        ,\n",
       "       138.        , 204.        , 124.75      ,  71.33333333,\n",
       "       118.        , 174.8125    , 372.        , 208.        ,\n",
       "       302.        , 110.8       ,  31.        , 114.        ,\n",
       "       295.        ,  68.        ,  80.        , 285.        ,\n",
       "       264.        , 202.33333333, 111.        , 271.        ,\n",
       "       184.        , 191.375     , 147.        , 278.25      ,\n",
       "       102.        ,  58.75      , 193.        ,   8.        ,\n",
       "       362.        , 177.        , 137.        , 176.33333333,\n",
       "       103.33333333,  64.        , 190.        , 278.        ,\n",
       "       148.        ,  52.        , 207.        ,  80.        ,\n",
       "         5.        , 360.        , 237.        , 143.66666667,\n",
       "       121.5       , 426.        , 198.83333333, 226.        ,\n",
       "       337.        , 204.        , 206.        , 250.33333333,\n",
       "       256.        , 133.        , 298.        , 193.        ,\n",
       "        99.        , 156.        , 283.        ,  47.66666667,\n",
       "        27.        , 137.        , 135.27272727, 114.        ,\n",
       "        98.125     , 212.        ,  48.        , 332.        ,\n",
       "       201.        , 372.        , 122.25      , 193.        ,\n",
       "       242.5       ,  72.        , 251.25      , 221.        ,\n",
       "       106.25      , 118.        , 171.        , 302.85714286,\n",
       "       137.        , 215.        , 331.        ,  89.        ,\n",
       "        96.        ,  41.        , 122.2       , 214.        ,\n",
       "       135.27272727, 347.        ,  68.        , 282.        ,\n",
       "       322.        , 332.        ,  68.        ,  47.        ,\n",
       "       255.        , 104.        , 193.        ,  80.        ,\n",
       "        79.4       ,  61.        , 257.        ,  27.        ,\n",
       "       379.        ,  41.        , 214.        ,  76.        ,\n",
       "       118.77777778, 313.        ,  27.        , 155.16666667,\n",
       "        68.        , 351.        , 176.        , 138.        ,\n",
       "       132.25      , 159.        , 366.        , 174.8125    ,\n",
       "       264.        , 308.5       , 433.        ,  68.        ,\n",
       "       103.33333333, 161.        ,  79.4       ,  49.        ,\n",
       "       198.83333333, 137.        , 140.        ,  68.75      ,\n",
       "       366.        , 193.        ,  31.        ,  16.        ,\n",
       "       171.75      , 199.        , 100.        , 161.        ,\n",
       "        80.        , 222.        , 324.        , 171.        ,\n",
       "        75.8       , 260.        ,  55.25      ,  31.        ,\n",
       "       102.        ,  72.5       , 229.        , 121.5       ,\n",
       "       218.        , 240.        , 124.        , 226.5       ])"
      ]
     },
     "execution_count": 53,
     "metadata": {},
     "output_type": "execute_result"
    }
   ],
   "source": [
    "dt_test_pred"
   ]
  },
  {
   "cell_type": "markdown",
   "id": "7a1aa439",
   "metadata": {},
   "source": [
    "# Performance metrics for DT Regressor"
   ]
  },
  {
   "cell_type": "code",
   "execution_count": 54,
   "id": "273e4215",
   "metadata": {},
   "outputs": [
    {
     "name": "stdout",
     "output_type": "stream",
     "text": [
      "Mean Squared Error (MSE): 926.6445845321314\n",
      "Root Mean Squared Error (RMSE): 30.440837447943697\n",
      "Mean Absolute Error (MAE): 15.065582023423326\n",
      "R-squared (R2): 0.9111256537349286\n"
     ]
    }
   ],
   "source": [
    "mse = mean_squared_error(y1train, dt_train_pred)\n",
    "rmse = np.sqrt(mse)\n",
    "mae = mean_absolute_error(y1train, dt_train_pred)\n",
    "r2 = r2_score(y1train, dt_train_pred)\n",
    "print(f'Mean Squared Error (MSE): {mse}')\n",
    "print(f'Root Mean Squared Error (RMSE): {rmse}')\n",
    "print(f'Mean Absolute Error (MAE): {mae}')\n",
    "print(f'R-squared (R2): {r2}')"
   ]
  },
  {
   "cell_type": "code",
   "execution_count": 55,
   "id": "f5bcb5e2",
   "metadata": {},
   "outputs": [
    {
     "name": "stdout",
     "output_type": "stream",
     "text": [
      "Mean Squared Error (MSE): 4217.0995821591505\n",
      "Root Mean Squared Error (RMSE): 64.93919911855359\n",
      "Mean Absolute Error (MAE): 43.92921323588086\n",
      "R-squared (R2): 0.6077518267346447\n"
     ]
    }
   ],
   "source": [
    "mse = mean_squared_error(y1test, dt_test_pred)\n",
    "rmse = np.sqrt(mse)\n",
    "mae = mean_absolute_error(y1test, dt_test_pred)\n",
    "r2 = r2_score(y1test, dt_test_pred)\n",
    "\n",
    "# Print the performance metrics\n",
    "print(f'Mean Squared Error (MSE): {mse}')\n",
    "print(f'Root Mean Squared Error (RMSE): {rmse}')\n",
    "print(f'Mean Absolute Error (MAE): {mae}')\n",
    "print(f'R-squared (R2): {r2}')"
   ]
  },
  {
   "cell_type": "code",
   "execution_count": null,
   "id": "12de3aaf",
   "metadata": {
    "scrolled": true
   },
   "outputs": [],
   "source": []
  },
  {
   "cell_type": "code",
   "execution_count": null,
   "id": "a6259a83",
   "metadata": {},
   "outputs": [],
   "source": []
  },
  {
   "cell_type": "markdown",
   "id": "0bea0dd4",
   "metadata": {},
   "source": [
    "# RANDOM FOREST REGRESSOR SELLING PRICE"
   ]
  },
  {
   "cell_type": "code",
   "execution_count": 56,
   "id": "1316831a",
   "metadata": {},
   "outputs": [],
   "source": [
    "from sklearn.ensemble import RandomForestRegressor"
   ]
  },
  {
   "cell_type": "code",
   "execution_count": 57,
   "id": "7779f596",
   "metadata": {},
   "outputs": [],
   "source": [
    "rf=RandomForestRegressor()"
   ]
  },
  {
   "cell_type": "code",
   "execution_count": 58,
   "id": "d26a6c50",
   "metadata": {},
   "outputs": [],
   "source": [
    "x2=df.drop(['name','selling_price'],axis=1)"
   ]
  },
  {
   "cell_type": "code",
   "execution_count": 59,
   "id": "8ed1e23a",
   "metadata": {},
   "outputs": [
    {
     "data": {
      "text/html": [
       "<div>\n",
       "<style scoped>\n",
       "    .dataframe tbody tr th:only-of-type {\n",
       "        vertical-align: middle;\n",
       "    }\n",
       "\n",
       "    .dataframe tbody tr th {\n",
       "        vertical-align: top;\n",
       "    }\n",
       "\n",
       "    .dataframe thead th {\n",
       "        text-align: right;\n",
       "    }\n",
       "</style>\n",
       "<table border=\"1\" class=\"dataframe\">\n",
       "  <thead>\n",
       "    <tr style=\"text-align: right;\">\n",
       "      <th></th>\n",
       "      <th>year</th>\n",
       "      <th>km_driven</th>\n",
       "      <th>fuel</th>\n",
       "      <th>seller_type</th>\n",
       "      <th>transmission</th>\n",
       "      <th>owner</th>\n",
       "    </tr>\n",
       "  </thead>\n",
       "  <tbody>\n",
       "    <tr>\n",
       "      <th>0</th>\n",
       "      <td>2007</td>\n",
       "      <td>70000</td>\n",
       "      <td>0</td>\n",
       "      <td>0</td>\n",
       "      <td>0</td>\n",
       "      <td>1</td>\n",
       "    </tr>\n",
       "    <tr>\n",
       "      <th>1</th>\n",
       "      <td>2007</td>\n",
       "      <td>50000</td>\n",
       "      <td>0</td>\n",
       "      <td>0</td>\n",
       "      <td>0</td>\n",
       "      <td>1</td>\n",
       "    </tr>\n",
       "    <tr>\n",
       "      <th>2</th>\n",
       "      <td>2012</td>\n",
       "      <td>100000</td>\n",
       "      <td>1</td>\n",
       "      <td>0</td>\n",
       "      <td>0</td>\n",
       "      <td>1</td>\n",
       "    </tr>\n",
       "    <tr>\n",
       "      <th>3</th>\n",
       "      <td>2017</td>\n",
       "      <td>46000</td>\n",
       "      <td>0</td>\n",
       "      <td>0</td>\n",
       "      <td>0</td>\n",
       "      <td>1</td>\n",
       "    </tr>\n",
       "    <tr>\n",
       "      <th>4</th>\n",
       "      <td>2014</td>\n",
       "      <td>141000</td>\n",
       "      <td>1</td>\n",
       "      <td>0</td>\n",
       "      <td>0</td>\n",
       "      <td>2</td>\n",
       "    </tr>\n",
       "    <tr>\n",
       "      <th>...</th>\n",
       "      <td>...</td>\n",
       "      <td>...</td>\n",
       "      <td>...</td>\n",
       "      <td>...</td>\n",
       "      <td>...</td>\n",
       "      <td>...</td>\n",
       "    </tr>\n",
       "    <tr>\n",
       "      <th>4335</th>\n",
       "      <td>2014</td>\n",
       "      <td>80000</td>\n",
       "      <td>1</td>\n",
       "      <td>0</td>\n",
       "      <td>0</td>\n",
       "      <td>2</td>\n",
       "    </tr>\n",
       "    <tr>\n",
       "      <th>4336</th>\n",
       "      <td>2014</td>\n",
       "      <td>80000</td>\n",
       "      <td>1</td>\n",
       "      <td>0</td>\n",
       "      <td>0</td>\n",
       "      <td>2</td>\n",
       "    </tr>\n",
       "    <tr>\n",
       "      <th>4337</th>\n",
       "      <td>2009</td>\n",
       "      <td>83000</td>\n",
       "      <td>0</td>\n",
       "      <td>0</td>\n",
       "      <td>0</td>\n",
       "      <td>2</td>\n",
       "    </tr>\n",
       "    <tr>\n",
       "      <th>4338</th>\n",
       "      <td>2016</td>\n",
       "      <td>90000</td>\n",
       "      <td>1</td>\n",
       "      <td>0</td>\n",
       "      <td>0</td>\n",
       "      <td>1</td>\n",
       "    </tr>\n",
       "    <tr>\n",
       "      <th>4339</th>\n",
       "      <td>2016</td>\n",
       "      <td>40000</td>\n",
       "      <td>0</td>\n",
       "      <td>0</td>\n",
       "      <td>0</td>\n",
       "      <td>1</td>\n",
       "    </tr>\n",
       "  </tbody>\n",
       "</table>\n",
       "<p>4340 rows × 6 columns</p>\n",
       "</div>"
      ],
      "text/plain": [
       "      year  km_driven  fuel  seller_type  transmission  owner\n",
       "0     2007      70000     0            0             0      1\n",
       "1     2007      50000     0            0             0      1\n",
       "2     2012     100000     1            0             0      1\n",
       "3     2017      46000     0            0             0      1\n",
       "4     2014     141000     1            0             0      2\n",
       "...    ...        ...   ...          ...           ...    ...\n",
       "4335  2014      80000     1            0             0      2\n",
       "4336  2014      80000     1            0             0      2\n",
       "4337  2009      83000     0            0             0      2\n",
       "4338  2016      90000     1            0             0      1\n",
       "4339  2016      40000     0            0             0      1\n",
       "\n",
       "[4340 rows x 6 columns]"
      ]
     },
     "execution_count": 59,
     "metadata": {},
     "output_type": "execute_result"
    }
   ],
   "source": [
    "x2"
   ]
  },
  {
   "cell_type": "code",
   "execution_count": 60,
   "id": "e7d6a486",
   "metadata": {},
   "outputs": [],
   "source": [
    "x_sc2 = sc.fit_transform(x2)"
   ]
  },
  {
   "cell_type": "code",
   "execution_count": 61,
   "id": "469a342b",
   "metadata": {},
   "outputs": [],
   "source": [
    "y2=df['selling_price']"
   ]
  },
  {
   "cell_type": "code",
   "execution_count": 62,
   "id": "1b324ce7",
   "metadata": {},
   "outputs": [],
   "source": [
    "x_sc2 = pd.DataFrame(x_sc2, columns=x2.columns)"
   ]
  },
  {
   "cell_type": "code",
   "execution_count": 63,
   "id": "695cbbf7",
   "metadata": {},
   "outputs": [],
   "source": [
    "yle2 = le.fit_transform(y2)"
   ]
  },
  {
   "cell_type": "code",
   "execution_count": 64,
   "id": "1d6fd7fa",
   "metadata": {},
   "outputs": [],
   "source": [
    "x2train, x2test, y2train, y2test = train_test_split(x_sc2, yle2, test_size=0.2)"
   ]
  },
  {
   "cell_type": "code",
   "execution_count": 65,
   "id": "4b20fb4f",
   "metadata": {},
   "outputs": [],
   "source": [
    "rf_mod = rf.fit(x2train, y2train)"
   ]
  },
  {
   "cell_type": "code",
   "execution_count": 66,
   "id": "263a0822",
   "metadata": {},
   "outputs": [],
   "source": [
    "rf_train_pred = rf_mod.predict(x2train)"
   ]
  },
  {
   "cell_type": "code",
   "execution_count": 67,
   "id": "a0ed0484",
   "metadata": {},
   "outputs": [
    {
     "data": {
      "text/plain": [
       "array([176.5878637 ,  18.5845    ,  38.91169048, ...,  34.15071429,\n",
       "       141.68693817, 253.52906952])"
      ]
     },
     "execution_count": 67,
     "metadata": {},
     "output_type": "execute_result"
    }
   ],
   "source": [
    "rf_train_pred"
   ]
  },
  {
   "cell_type": "code",
   "execution_count": 68,
   "id": "d96303a4",
   "metadata": {},
   "outputs": [],
   "source": [
    "rf_test_pred = rf_mod.predict(x2test)"
   ]
  },
  {
   "cell_type": "code",
   "execution_count": 69,
   "id": "d1c788ec",
   "metadata": {},
   "outputs": [
    {
     "data": {
      "text/plain": [
       "array([297.7435    , 105.19502381, 293.51083333,  54.83134901,\n",
       "       119.48685714,  68.54477778,  48.65275   , 126.63611977,\n",
       "       171.        , 247.08347096,  55.04797619, 201.63875   ,\n",
       "        60.27      , 208.97266667, 217.76021825, 172.62      ,\n",
       "       228.66038095, 147.14      , 312.68313492, 305.0020754 ,\n",
       "       160.71759524, 111.25043723, 117.17      ,  51.63533333,\n",
       "       275.4       ,  95.78330952,  81.69544444, 429.03      ,\n",
       "       116.37955952,  83.48316667, 198.41678319, 129.65548954,\n",
       "       119.53680123, 192.2218676 ,  84.8435    , 197.0931042 ,\n",
       "       127.7200202 , 116.30980952, 124.95766667,  81.37619048,\n",
       "       176.97299276, 157.99361905, 125.52      , 254.48894444,\n",
       "       245.        , 312.68313492, 178.61218651,  95.78330952,\n",
       "       106.9817619 , 132.53492857, 279.785     , 223.51      ,\n",
       "       220.39362446,  55.04797619, 262.17      , 179.02893434,\n",
       "       165.00295425,  84.27347222,  48.93024206, 357.345     ,\n",
       "       144.40079004,  61.79416667, 222.106     , 182.07238095,\n",
       "       208.15625794,  81.51527381, 128.19      ,  81.65333333,\n",
       "       258.77466667, 240.43505556, 112.95253185, 201.34675325,\n",
       "       155.73      , 172.99033347, 132.20864286, 197.78      ,\n",
       "       131.7623438 ,  90.14430556, 108.54      , 155.65759524,\n",
       "       166.80527473, 441.        , 181.5625    , 145.629     ,\n",
       "        36.8475    , 274.97947872, 176.33864286, 254.48894444,\n",
       "       148.29625336, 126.50275   , 433.        , 132.464     ,\n",
       "       168.89      , 221.15809668, 433.        , 181.80030952,\n",
       "       251.38246645,  95.87333333, 129.65548954, 149.80864286,\n",
       "        74.21157143,  82.6575    , 391.        , 149.80864286,\n",
       "        59.49359452, 127.44276984, 146.26493243, 200.61454701,\n",
       "        89.585     , 211.57933333, 264.21227778, 107.98      ,\n",
       "       324.94333333,  48.65275   , 308.227     ,  71.11      ,\n",
       "        49.193     ,  67.00175   , 107.9668315 , 199.88      ,\n",
       "        40.10257937,  95.0825    , 283.9335    , 136.71627201,\n",
       "        96.9175    , 221.15809668, 211.80394877, 172.99033347,\n",
       "       203.10747619, 207.21      , 149.37      , 154.92      ,\n",
       "       145.05142857, 224.85765476,  84.87285714, 114.04855952,\n",
       "       252.53      , 142.64666178, 165.15980952, 267.71511833,\n",
       "        51.454     ,  41.94338095, 230.51975   , 115.50744156,\n",
       "       310.38188889, 101.65010245, 202.70285714,  34.15071429,\n",
       "       109.86133333, 372.9852451 ,  32.88      , 150.05533333,\n",
       "        77.14905159, 270.92340224, 171.        , 135.79311905,\n",
       "       421.33      , 171.64      , 145.0635    , 293.96239105,\n",
       "       195.757     , 170.966     , 230.51975   , 106.2       ,\n",
       "       183.65781457, 112.42904762, 158.33005357, 425.2447619 ,\n",
       "       210.50808333, 120.52666667, 139.03361905, 104.82509242,\n",
       "       258.26333333, 146.21435714, 165.84492857, 287.60231746,\n",
       "       204.271     , 223.51      , 145.11032992,  23.44      ,\n",
       "       100.24      , 113.96006746, 117.86444949, 159.69192063,\n",
       "       181.26704762, 282.91326984,  17.94975   ,  91.93295238,\n",
       "       152.5627381 , 123.86666667, 251.8       , 100.09      ,\n",
       "       345.5       , 286.43785714, 131.97093831, 277.99080123,\n",
       "       114.376     ,  45.26      ,  97.0457619 , 104.        ,\n",
       "        15.71      , 136.42824062, 257.76      , 213.56020371,\n",
       "       187.7815    , 103.45      ,  39.78      , 190.01101118,\n",
       "       136.38091667, 147.19071429, 152.5627381 , 188.2441746 ,\n",
       "        48.2195    , 219.92282226,  74.5735    , 233.34479582,\n",
       "       285.        , 282.43      , 236.        , 222.56130437,\n",
       "        44.415     , 188.215     ,  62.2       , 127.75875   ,\n",
       "       110.38766667, 274.97947872,  95.535     , 183.867     ,\n",
       "       376.52      , 270.69585714,  39.87685714, 235.525     ,\n",
       "       137.18      , 183.65      , 139.01214286, 322.1       ,\n",
       "       117.07141631, 202.70285714, 128.0392003 , 162.6       ,\n",
       "       204.45      ,  81.51527381, 264.21227778, 195.374     ,\n",
       "       167.0607619 , 264.21227778, 157.214     ,  96.20666667,\n",
       "       131.13275   ,  61.74833333, 186.23614863, 360.30209341,\n",
       "       198.41678319, 250.81147619,  48.65275   , 258.54886935,\n",
       "        70.6       , 168.59266667,  41.3422381 , 118.11191414,\n",
       "       100.0725    , 207.44909524, 331.915     , 216.59      ,\n",
       "       114.22228571, 302.505     , 105.91966667, 169.72631613,\n",
       "       312.68313492, 127.68719048,  34.68248016, 172.57      ,\n",
       "       138.72949451, 230.51975   ,  96.97147619, 204.24820455,\n",
       "       229.19190476, 135.79311905,  74.5735    , 238.00936508,\n",
       "       184.53756327, 402.61333333, 346.331     ,  49.        ,\n",
       "       198.41678319, 164.495     , 202.96435714,  50.004     ,\n",
       "       191.68      , 198.878     , 186.23614863, 203.03966667,\n",
       "       421.        , 201.49113636, 133.65206746, 114.04855952,\n",
       "       274.97947872, 212.32375   ,  61.79416667, 128.0392003 ,\n",
       "       265.53995238, 239.66      , 282.91326984, 104.        ,\n",
       "        43.18083333, 298.7       , 135.79311905, 391.        ,\n",
       "       242.42890476, 363.98      ,  86.4       ,  96.72      ,\n",
       "       279.785     , 365.19      ,  78.65300397, 372.        ,\n",
       "       305.59507388,  68.51416667, 118.75766667, 201.32297252,\n",
       "        77.03666667, 140.70844444,  99.32964538,  68.347     ,\n",
       "       172.99033347,  97.5152381 ,  98.72166667, 408.65      ,\n",
       "       230.80683333, 121.55230952,  35.254     ,  54.83134901,\n",
       "       240.43505556, 114.21398701,  85.88085714, 157.54960226,\n",
       "       107.5648373 , 269.24      ,  35.66      ,  31.65333333,\n",
       "       283.91      , 152.86644474, 149.09987662, 202.70285714,\n",
       "        15.96      , 101.62249062, 243.32775397, 127.44276984,\n",
       "       192.3       ,  81.515     , 206.20266667, 255.79      ,\n",
       "       287.60231746, 322.74539286, 138.11      , 215.24      ,\n",
       "       247.24      , 236.        ,  81.65333333, 306.99      ,\n",
       "       107.5648373 ,  56.795     , 181.5625    , 181.5625    ,\n",
       "       129.5022619 ,  89.27379667, 114.04855952, 123.7715    ,\n",
       "       239.80916667,  88.97465873, 194.17666667, 192.188     ,\n",
       "       384.93      ,  94.01      , 158.76      ,  90.74366667,\n",
       "       127.5869304 , 181.03      ,  67.02083333, 312.68313492,\n",
       "       212.81533333, 277.99080123,  58.44257143, 276.07      ,\n",
       "        57.65222222, 159.65388889, 341.83666667, 151.302     ,\n",
       "       294.37      , 185.76771429, 105.36735714, 300.56066667,\n",
       "        37.78216667, 211.31942857,  16.61066667,  89.33      ,\n",
       "        92.9       , 150.05533333, 192.2218676 , 188.2441746 ,\n",
       "        88.43966667, 208.15625794, 119.53680123,  42.21771429,\n",
       "       112.95253185, 267.37233333, 239.80585714, 234.99614286,\n",
       "        23.43333333, 164.04642029,  44.69      ,  79.7695119 ,\n",
       "       181.5625    , 105.07858214,  36.75916667, 155.65759524,\n",
       "       206.20266667,  85.07306602, 199.68      , 301.26066667,\n",
       "       104.79733333,  38.47713492,  70.0575    ,  84.025     ,\n",
       "       263.81985294, 202.70285714, 323.005     ,  81.63134127,\n",
       "        27.71      , 169.72631613, 199.66783333, 104.71479365,\n",
       "       106.57403968, 103.3105    , 228.828     ,  49.81      ,\n",
       "        54.931     , 163.401     , 140.49958442, 228.65833333,\n",
       "       151.302     , 114.21398701,  68.01364813,  91.93295238,\n",
       "       205.22      , 274.97947872,  36.91466667, 307.38      ,\n",
       "        32.17415873, 186.23614863, 320.5410119 , 239.66285714,\n",
       "       310.38188889, 251.8       , 197.0931042 ,  66.5885    ,\n",
       "       128.02760714, 170.47952514, 150.46033225, 256.        ,\n",
       "       145.11032992,  59.14666667, 150.15270019,  51.4275    ,\n",
       "       158.50666667, 211.18166667, 171.62566667, 245.        ,\n",
       "       123.138     , 343.28      , 170.47952514, 135.81222222,\n",
       "       132.92083333, 254.48894444, 101.63359524, 355.55038889,\n",
       "       215.55666667, 372.        , 226.21040476, 199.66666667,\n",
       "       121.52047619, 130.24      , 160.97332855, 163.02333333,\n",
       "       167.01666667,  52.22483333,  68.347     ,  65.6575    ,\n",
       "       134.64742857, 306.31759321, 145.92922409, 131.97093831,\n",
       "       115.84733333,  53.78833333, 113.96006746, 184.27666667,\n",
       "       302.79924621, 217.76021825, 267.71511833, 315.842     ,\n",
       "        86.77928571,  36.00380952, 273.08916667, 171.58766667,\n",
       "       274.97947872,  62.6967619 ,  78.65300397, 293.96239105,\n",
       "       115.68483333, 187.54      , 104.02021429, 179.02893434,\n",
       "       231.79      , 216.0765    , 403.33      , 190.49616667,\n",
       "       128.02760714, 208.95976693, 441.        , 245.56      ,\n",
       "       262.87295238, 314.19356654, 308.227     ,  18.31216667,\n",
       "       288.96166667, 135.71091667, 162.90912281, 152.31474601,\n",
       "       261.09857143,  78.65300397,  32.63472619, 158.76606746,\n",
       "       113.767     , 197.07454701, 201.63619048, 225.33      ,\n",
       "        74.5735    , 119.53680123, 205.81321429, 117.86444949,\n",
       "        68.34      , 283.32      , 179.73930952, 329.01      ,\n",
       "       217.        , 209.01083333, 270.18      ,  45.94616667,\n",
       "       177.00166667, 145.11032992,  64.88588095, 252.32333333,\n",
       "       200.2       , 173.27438095, 310.09      ,  30.638     ,\n",
       "       346.331     , 251.8       ,  74.59066667, 103.0564989 ,\n",
       "       114.04855952, 210.29690476, 226.37376051,  46.256     ,\n",
       "       135.39919193, 104.82509242, 270.4988373 ,  38.91169048,\n",
       "       116.30980952, 104.        ,  79.7695119 , 113.80929474,\n",
       "       136.5825    , 265.17285714, 262.97185714, 285.        ,\n",
       "        62.64138889,  89.27379667, 183.3       , 224.85765476,\n",
       "        60.09      , 211.69      , 136.71627201, 194.74404113,\n",
       "       282.        , 158.76606746, 214.1045    , 208.15625794,\n",
       "       125.96      , 169.98323521, 232.88142857, 136.42824062,\n",
       "       127.62255556, 111.25043723,  30.14      ,  33.61221429,\n",
       "        53.3735    , 189.2695    , 147.92166667, 202.70285714,\n",
       "       157.54960226, 304.64065476, 145.11032992, 137.61113889,\n",
       "       328.925     , 293.96239105, 256.72183117, 143.54836508,\n",
       "       312.68313492,  79.66833333, 207.38583333, 217.76021825,\n",
       "       245.15      , 242.05      , 106.67466667, 182.03733333,\n",
       "       282.91326984, 119.53680123, 175.89333333,  92.82595238,\n",
       "       113.80929474, 128.12683333, 256.        , 221.15809668,\n",
       "       114.04855952,  57.65222222, 239.80585714, 299.31382143,\n",
       "       122.9       , 205.34544048, 227.75185256, 146.72      ,\n",
       "       120.51511905,  60.90251299, 304.90056168, 148.14208333,\n",
       "       110.44      , 132.53492857,  42.211     , 111.24357143,\n",
       "       141.13933333,  67.13442791,  64.65152381, 134.90657576,\n",
       "       296.98583333, 146.21435714, 169.00666667,  98.36619048,\n",
       "       345.28      , 219.41270772, 283.21      ,  32.63472619,\n",
       "       392.31666667, 273.15723972, 341.83666667,  88.3608373 ,\n",
       "       274.1718373 , 209.53611905, 226.21040476, 165.03833333,\n",
       "       258.44221001, 173.26      ,  43.31761905, 367.89      ,\n",
       "       113.245     , 136.42824062, 379.24      , 115.68483333,\n",
       "        36.92916667, 193.        , 249.29583009, 157.99039719,\n",
       "        84.025     , 350.66      ,  46.16666667, 391.        ,\n",
       "       146.15085089, 129.54833333, 110.99798413,  98.42278571,\n",
       "       123.85816667, 247.08347096, 137.79      , 108.542     ,\n",
       "       141.00307495,  44.77      , 202.3325    ,  86.92964286,\n",
       "       169.72631613,  45.04      , 122.086734  ,  90.64507937,\n",
       "       267.71511833, 341.33      , 117.44601554, 258.26333333,\n",
       "       257.47629298,  67.71      ,  62.62208333, 286.78868498,\n",
       "       170.25988095, 208.95976693, 192.158     , 201.49113636,\n",
       "       110.22233333,  28.24233333, 154.53533333, 267.71511833,\n",
       "       231.79      , 316.2225    , 214.        , 214.23663889,\n",
       "       169.40982143, 145.11032992, 235.1747619 ,  86.1065119 ,\n",
       "       137.49833333, 165.00295425, 154.91532182, 170.47952514,\n",
       "       343.19      , 134.52497619, 168.7865    , 391.        ,\n",
       "       152.671     ,  86.92964286,  43.5402381 ,  89.00841667,\n",
       "        80.9470946 , 122.086734  , 216.19466667, 149.80864286,\n",
       "       176.5734881 , 271.44704197,  51.48      , 141.42929762,\n",
       "        41.3422381 , 105.89166667, 285.        , 179.73930952,\n",
       "       131.991     , 112.44874398, 204.94619048,  60.03930159,\n",
       "        26.75      , 134.88742857, 152.31474601, 197.0931042 ,\n",
       "       185.84816667,  41.39483333,  22.738     , 303.92737066,\n",
       "        97.65171429,  50.622     , 247.28916667, 263.99      ,\n",
       "        87.43522175, 322.1       , 193.90666667,  84.83454762,\n",
       "       162.97      , 157.54960226, 201.32297252, 396.49      ,\n",
       "       199.04243232, 228.66038095,  23.43333333, 251.8       ,\n",
       "       155.31740929, 242.27175397, 203.72      , 304.64065476,\n",
       "       182.07238095,  70.19392857, 201.32297252, 160.25671032,\n",
       "       314.19356654, 176.5878637 , 318.28682105, 251.8       ,\n",
       "        94.01      , 105.36735714, 201.35616342,  92.59589401,\n",
       "       372.86      , 160.71759524, 237.54      , 185.24      ,\n",
       "       149.492     , 101.65010245, 232.88142857, 205.81321429,\n",
       "       313.67666667, 290.7903502 , 165.00295425,  97.61292857,\n",
       "        86.92964286, 166.70615018,  79.714     , 311.38285714,\n",
       "       128.0392003 , 375.796     , 252.34666667, 176.97299276,\n",
       "       146.26493243, 136.92433333, 217.76021825, 122.89166667,\n",
       "        27.04516667, 146.26493243, 177.81801055, 203.524     ,\n",
       "       197.0931042 ,  71.66802381, 388.44833333,  50.92      ,\n",
       "       141.00307495, 112.33547619,  46.06861111,  19.51716667,\n",
       "       282.        , 136.01290476, 172.99033347,  45.64571032,\n",
       "       183.58216667, 204.23952381, 190.34005128, 433.        ,\n",
       "        87.9875    , 107.5648373 ,  78.65300397, 168.95777778,\n",
       "       193.92311111, 131.765     , 136.71627201, 162.90912281,\n",
       "       241.54333333, 168.39822222, 141.42929762, 112.95253185,\n",
       "       197.18633333,  38.47713492,  26.8225    , 168.14933333,\n",
       "       266.04      , 263.81985294, 215.36059824, 105.07858214,\n",
       "       135.25      , 179.97978175, 145.089     , 121.37644444,\n",
       "       214.90119048,  94.31680952, 226.25883333,  86.03266667,\n",
       "       134.88742857,  71.66802381,  39.8075    , 307.97      ,\n",
       "        82.02233333,  84.90521825, 259.39      , 141.68693817,\n",
       "       214.        , 341.87      , 163.152     , 217.        ])"
      ]
     },
     "execution_count": 69,
     "metadata": {},
     "output_type": "execute_result"
    }
   ],
   "source": [
    "rf_test_pred"
   ]
  },
  {
   "cell_type": "markdown",
   "id": "d44701c5",
   "metadata": {},
   "source": [
    "# Performance Metrics for Random Forest Regressor"
   ]
  },
  {
   "cell_type": "code",
   "execution_count": 70,
   "id": "5e29542a",
   "metadata": {},
   "outputs": [
    {
     "name": "stdout",
     "output_type": "stream",
     "text": [
      "Mean Squared Error (MSE): 3182.4369208305893\n",
      "Root Mean Squared Error (RMSE): 56.41309175032502\n",
      "Mean Absolute Error (MAE): 40.55362194470328\n",
      "R-squared (R2): 0.6923993440157535\n"
     ]
    }
   ],
   "source": [
    "mse = mean_squared_error(y2test, rf_test_pred)\n",
    "rmse = np.sqrt(mse)\n",
    "mae = mean_absolute_error(y2test, rf_test_pred)\n",
    "r2 = r2_score(y2test, rf_test_pred)\n",
    "\n",
    "# Print the performance metrics\n",
    "print(f'Mean Squared Error (MSE): {mse}')\n",
    "print(f'Root Mean Squared Error (RMSE): {rmse}')\n",
    "print(f'Mean Absolute Error (MAE): {mae}')\n",
    "print(f'R-squared (R2): {r2}')"
   ]
  },
  {
   "cell_type": "code",
   "execution_count": 71,
   "id": "e2e3b429",
   "metadata": {},
   "outputs": [
    {
     "name": "stdout",
     "output_type": "stream",
     "text": [
      "Mean Squared Error (MSE): 1191.041702213291\n",
      "Root Mean Squared Error (RMSE): 34.51147203776291\n",
      "Mean Absolute Error (MAE): 23.30077033889053\n",
      "R-squared (R2): 0.8868678648584155\n"
     ]
    }
   ],
   "source": [
    "mse = mean_squared_error(y2train, rf_train_pred)\n",
    "rmse = np.sqrt(mse)\n",
    "mae = mean_absolute_error(y2train, rf_train_pred)\n",
    "r2 = r2_score(y2train, rf_train_pred)\n",
    "\n",
    "# Print the performance metrics\n",
    "print(f'Mean Squared Error (MSE): {mse}')\n",
    "print(f'Root Mean Squared Error (RMSE): {rmse}')\n",
    "print(f'Mean Absolute Error (MAE): {mae}')\n",
    "print(f'R-squared (R2): {r2}')"
   ]
  },
  {
   "cell_type": "markdown",
   "id": "6bb9168a",
   "metadata": {},
   "source": [
    "# KNN MODEL AND OPTIMISATION"
   ]
  },
  {
   "cell_type": "code",
   "execution_count": 72,
   "id": "35e8216e",
   "metadata": {},
   "outputs": [],
   "source": [
    "from sklearn.neighbors import KNeighborsRegressor"
   ]
  },
  {
   "cell_type": "code",
   "execution_count": 95,
   "id": "8db4e31d",
   "metadata": {},
   "outputs": [],
   "source": [
    "from sklearn.model_selection import GridSearchCV"
   ]
  },
  {
   "cell_type": "code",
   "execution_count": 96,
   "id": "7a45a5d6",
   "metadata": {},
   "outputs": [
    {
     "name": "stdout",
     "output_type": "stream",
     "text": [
      "Best Hyperparameters: {'n_neighbors': 11, 'p': 2, 'weights': 'uniform'}\n"
     ]
    }
   ],
   "source": [
    "param_grid = {'n_neighbors': [3, 5, 7, 9, 11],\n",
    "              'weights': ['uniform', 'distance'],\n",
    "              'p': [1, 2]}\n",
    "grid_search = GridSearchCV(estimator=knn, param_grid=param_grid, scoring='neg_mean_squared_error', cv=5)\n",
    "grid_search.fit(x2train, y2train)\n",
    "best_params = grid_search.best_params_\n",
    "print(\"Best Hyperparameters:\", best_params)"
   ]
  },
  {
   "cell_type": "code",
   "execution_count": 73,
   "id": "acd59459",
   "metadata": {},
   "outputs": [],
   "source": [
    "knn = KNeighborsRegressor(11)"
   ]
  },
  {
   "cell_type": "code",
   "execution_count": 74,
   "id": "48e51f3e",
   "metadata": {},
   "outputs": [
    {
     "data": {
      "text/plain": [
       "11"
      ]
     },
     "execution_count": 74,
     "metadata": {},
     "output_type": "execute_result"
    }
   ],
   "source": [
    "knn.n_neighbors"
   ]
  },
  {
   "cell_type": "code",
   "execution_count": null,
   "id": "1832494d",
   "metadata": {},
   "outputs": [],
   "source": []
  },
  {
   "cell_type": "code",
   "execution_count": 75,
   "id": "59609ac3",
   "metadata": {},
   "outputs": [],
   "source": [
    "knn_mod = knn.fit(x2train, y2train)"
   ]
  },
  {
   "cell_type": "code",
   "execution_count": 76,
   "id": "1282445c",
   "metadata": {},
   "outputs": [
    {
     "data": {
      "text/plain": [
       "array([182.09090909,  48.90909091,  41.81818182, ...,  31.81818182,\n",
       "       137.        , 253.63636364])"
      ]
     },
     "execution_count": 76,
     "metadata": {},
     "output_type": "execute_result"
    }
   ],
   "source": [
    "knn_train_pred = knn_mod.predict(x2train)\n",
    "knn_train_pred"
   ]
  },
  {
   "cell_type": "code",
   "execution_count": 77,
   "id": "fe32fafb",
   "metadata": {},
   "outputs": [
    {
     "data": {
      "text/plain": [
       "array([233.45454545,  95.36363636, 250.        ,  52.63636364,\n",
       "       111.27272727, 107.90909091,  46.81818182, 119.81818182,\n",
       "       188.63636364, 244.18181818,  56.54545455, 282.18181818,\n",
       "       109.45454545, 226.18181818, 234.90909091, 183.90909091,\n",
       "       178.81818182, 129.36363636, 273.90909091, 290.72727273,\n",
       "       162.18181818,  86.        ,  98.36363636, 111.45454545,\n",
       "       196.45454545, 154.36363636, 158.90909091, 433.        ,\n",
       "       121.63636364,  78.63636364, 200.54545455, 153.27272727,\n",
       "       141.36363636, 231.18181818,  86.36363636, 221.36363636,\n",
       "       176.90909091, 135.54545455, 160.54545455,  98.90909091,\n",
       "       167.18181818, 150.45454545, 138.18181818, 243.        ,\n",
       "       247.        , 273.90909091, 190.36363636, 154.36363636,\n",
       "       103.27272727, 104.27272727, 317.09090909, 250.        ,\n",
       "       215.        ,  56.54545455, 239.72727273, 172.72727273,\n",
       "       160.45454545, 115.54545455,  60.45454545, 383.        ,\n",
       "       174.27272727,  55.72727273, 252.63636364, 165.63636364,\n",
       "       213.63636364,  77.45454545, 194.18181818,  57.45454545,\n",
       "       228.63636364, 273.18181818, 129.90909091, 176.54545455,\n",
       "       197.45454545, 171.18181818, 126.81818182, 215.27272727,\n",
       "       149.72727273,  94.54545455,  79.90909091, 127.27272727,\n",
       "       165.27272727, 439.45454545, 154.36363636, 157.36363636,\n",
       "        35.72727273, 254.09090909, 194.09090909, 243.        ,\n",
       "       190.27272727, 132.        , 425.        , 136.63636364,\n",
       "       227.63636364, 235.27272727, 425.        , 198.27272727,\n",
       "       206.81818182, 117.18181818, 153.27272727, 129.        ,\n",
       "       133.45454545, 106.63636364, 365.81818182, 129.        ,\n",
       "        55.81818182, 100.        , 155.09090909, 186.81818182,\n",
       "        93.54545455, 233.09090909, 232.18181818,  90.18181818,\n",
       "       367.09090909,  46.81818182, 233.45454545,  54.54545455,\n",
       "       101.90909091,  62.90909091, 130.        , 242.54545455,\n",
       "        46.        , 123.63636364, 190.90909091, 143.18181818,\n",
       "       125.18181818, 235.27272727, 182.18181818, 171.18181818,\n",
       "       253.54545455, 232.72727273, 134.90909091, 211.54545455,\n",
       "       162.81818182, 233.45454545, 109.09090909, 120.54545455,\n",
       "       191.09090909, 138.18181818, 116.36363636, 252.90909091,\n",
       "        75.18181818,  52.54545455, 214.81818182, 111.63636364,\n",
       "       233.72727273, 127.90909091, 224.90909091,  31.81818182,\n",
       "        81.54545455, 234.90909091,  27.        , 132.27272727,\n",
       "        67.72727273, 265.36363636, 188.63636364,  94.72727273,\n",
       "       423.90909091, 203.54545455, 114.27272727, 294.        ,\n",
       "       193.09090909, 116.        , 214.81818182, 168.        ,\n",
       "       177.90909091, 102.27272727, 171.45454545, 383.27272727,\n",
       "       221.72727273, 103.45454545, 150.        , 104.81818182,\n",
       "       302.72727273, 156.54545455, 175.72727273, 320.09090909,\n",
       "       185.09090909, 250.        , 137.36363636,  24.09090909,\n",
       "       122.27272727, 127.54545455, 142.36363636, 198.36363636,\n",
       "       170.        , 229.72727273,  35.81818182,  98.09090909,\n",
       "       121.09090909, 191.27272727, 271.90909091, 116.81818182,\n",
       "       341.36363636, 275.45454545, 128.        , 277.36363636,\n",
       "       180.        ,  37.45454545, 106.54545455, 107.27272727,\n",
       "        29.18181818, 124.        , 274.72727273, 238.18181818,\n",
       "       184.90909091,  93.54545455,  38.72727273, 210.54545455,\n",
       "       104.90909091, 190.63636364, 121.09090909, 189.63636364,\n",
       "        48.18181818, 204.        , 119.        , 251.09090909,\n",
       "       290.36363636, 364.09090909, 244.36363636, 224.18181818,\n",
       "        40.63636364, 180.45454545,  87.36363636, 132.        ,\n",
       "        72.81818182, 254.09090909, 120.54545455, 263.54545455,\n",
       "       346.09090909, 233.27272727,  70.81818182, 192.        ,\n",
       "       169.36363636, 158.09090909, 144.45454545, 290.36363636,\n",
       "       160.72727273, 224.90909091, 117.45454545, 194.54545455,\n",
       "       199.54545455,  77.45454545, 232.18181818, 183.27272727,\n",
       "       151.54545455, 232.18181818, 168.81818182, 142.81818182,\n",
       "       150.72727273, 108.54545455, 209.09090909, 301.45454545,\n",
       "       200.54545455, 244.27272727,  46.81818182, 265.36363636,\n",
       "       133.54545455, 186.36363636,  60.27272727, 155.09090909,\n",
       "       119.36363636, 182.45454545, 314.45454545, 211.09090909,\n",
       "        71.54545455, 250.27272727,  98.36363636, 188.09090909,\n",
       "       273.90909091, 127.45454545,  32.54545455, 181.18181818,\n",
       "       127.27272727, 214.81818182,  89.36363636, 185.09090909,\n",
       "       171.63636364,  94.72727273, 119.        , 244.        ,\n",
       "       175.        , 401.09090909, 314.81818182,  48.36363636,\n",
       "       200.54545455, 153.        , 185.09090909,  88.72727273,\n",
       "       193.72727273, 169.36363636, 209.09090909, 230.09090909,\n",
       "       415.        , 215.18181818, 159.81818182, 120.54545455,\n",
       "       254.09090909, 215.45454545,  55.72727273, 117.45454545,\n",
       "       228.90909091, 187.27272727, 229.72727273, 107.27272727,\n",
       "        41.81818182, 296.18181818,  94.72727273, 365.81818182,\n",
       "       223.27272727, 314.09090909, 128.54545455,  88.27272727,\n",
       "       317.09090909, 360.36363636,  89.09090909, 371.18181818,\n",
       "       244.54545455,  71.45454545, 117.09090909, 188.27272727,\n",
       "       106.72727273,  89.90909091, 104.72727273,  61.81818182,\n",
       "       171.18181818, 154.        , 112.        , 372.81818182,\n",
       "       213.45454545, 130.27272727,  44.27272727,  52.63636364,\n",
       "       273.18181818,  84.54545455,  80.18181818, 168.54545455,\n",
       "       122.        , 257.90909091,  54.90909091,  41.        ,\n",
       "       271.90909091, 153.81818182, 131.27272727, 224.90909091,\n",
       "        26.90909091,  96.90909091, 189.54545455, 100.        ,\n",
       "       239.45454545,  91.09090909, 203.45454545, 321.81818182,\n",
       "       320.09090909, 322.45454545, 130.27272727, 231.18181818,\n",
       "       284.        , 244.36363636,  57.45454545, 295.45454545,\n",
       "       122.        ,  74.18181818, 154.36363636, 154.36363636,\n",
       "       154.90909091,  99.72727273, 120.54545455, 102.36363636,\n",
       "       231.45454545,  95.18181818, 188.72727273, 176.54545455,\n",
       "       377.27272727, 117.90909091, 179.54545455, 109.18181818,\n",
       "       105.36363636, 245.54545455, 109.90909091, 273.90909091,\n",
       "       150.54545455, 277.36363636,  78.18181818, 230.54545455,\n",
       "       129.45454545, 140.45454545, 349.81818182, 136.        ,\n",
       "       235.63636364, 215.63636364, 131.27272727, 317.81818182,\n",
       "        36.72727273, 191.27272727,  47.        , 131.27272727,\n",
       "       109.27272727, 132.27272727, 229.72727273, 189.63636364,\n",
       "        93.09090909, 213.63636364, 141.36363636,  33.90909091,\n",
       "       129.90909091, 267.18181818, 240.81818182, 231.63636364,\n",
       "        25.72727273, 248.81818182,  82.18181818, 149.72727273,\n",
       "       154.36363636, 115.72727273,  41.18181818, 142.27272727,\n",
       "       203.45454545,  99.72727273, 204.27272727, 317.81818182,\n",
       "       124.63636364,  63.        ,  81.72727273,  97.36363636,\n",
       "       280.72727273, 224.90909091, 275.18181818,  83.18181818,\n",
       "        72.81818182, 188.09090909, 213.90909091, 175.09090909,\n",
       "        97.18181818, 134.63636364, 205.27272727,  33.18181818,\n",
       "        64.63636364, 130.45454545, 136.90909091, 210.        ,\n",
       "       136.        ,  84.54545455, 111.72727273,  98.09090909,\n",
       "       203.63636364, 254.09090909,  34.36363636, 383.        ,\n",
       "        31.27272727, 209.09090909, 326.18181818, 215.09090909,\n",
       "       233.72727273, 271.90909091, 221.36363636,  80.72727273,\n",
       "       150.90909091, 174.54545455, 110.18181818, 255.63636364,\n",
       "       137.36363636,  96.54545455, 170.36363636,  59.90909091,\n",
       "       211.09090909, 241.45454545, 160.54545455, 247.        ,\n",
       "       100.27272727, 225.        , 174.54545455, 165.45454545,\n",
       "       106.72727273, 243.        ,  91.81818182, 327.18181818,\n",
       "       240.45454545, 371.18181818, 211.63636364, 170.09090909,\n",
       "       110.72727273, 127.90909091, 206.27272727, 121.18181818,\n",
       "       174.81818182,  53.        ,  61.81818182,  56.45454545,\n",
       "       113.36363636, 265.27272727, 111.18181818, 128.        ,\n",
       "       100.54545455,  56.27272727, 127.54545455, 204.54545455,\n",
       "       278.36363636, 234.90909091, 252.90909091, 317.36363636,\n",
       "        78.36363636,  47.        , 217.90909091, 230.90909091,\n",
       "       254.09090909,  85.54545455,  89.09090909, 294.        ,\n",
       "       155.36363636, 173.09090909,  80.90909091, 172.72727273,\n",
       "       215.09090909, 179.09090909, 415.        , 175.63636364,\n",
       "       150.90909091, 210.90909091, 439.45454545, 179.        ,\n",
       "       216.54545455, 301.72727273, 233.45454545,  46.72727273,\n",
       "       279.27272727, 104.90909091, 208.27272727, 160.72727273,\n",
       "       233.09090909,  89.09090909,  44.63636364, 198.18181818,\n",
       "       173.45454545, 189.45454545, 241.09090909, 235.72727273,\n",
       "       119.        , 141.36363636, 197.45454545, 142.36363636,\n",
       "       125.81818182, 231.27272727, 157.45454545, 318.09090909,\n",
       "       231.09090909, 241.45454545, 157.18181818,  51.54545455,\n",
       "       175.72727273, 137.36363636,  74.63636364, 191.72727273,\n",
       "       264.18181818, 184.45454545, 314.09090909,  46.72727273,\n",
       "       314.81818182, 271.90909091,  77.81818182,  99.45454545,\n",
       "       120.54545455, 193.45454545, 224.18181818,  44.90909091,\n",
       "       132.90909091, 104.81818182, 223.36363636,  41.81818182,\n",
       "       135.54545455, 107.27272727, 149.72727273, 116.63636364,\n",
       "       124.90909091, 288.72727273, 217.18181818, 290.36363636,\n",
       "        68.81818182,  99.72727273, 214.36363636, 233.45454545,\n",
       "        36.90909091, 212.54545455, 143.18181818, 170.09090909,\n",
       "       285.81818182, 198.18181818, 174.63636364, 213.63636364,\n",
       "       127.45454545,  88.45454545, 228.63636364, 124.        ,\n",
       "       158.90909091,  86.        ,  33.18181818,  37.09090909,\n",
       "        88.36363636, 152.81818182, 141.        , 224.90909091,\n",
       "       168.54545455, 267.27272727, 137.36363636, 165.63636364,\n",
       "       271.81818182, 294.        , 279.72727273, 123.27272727,\n",
       "       273.90909091,  99.18181818, 253.72727273, 234.90909091,\n",
       "       208.81818182, 309.18181818,  94.09090909, 240.18181818,\n",
       "       229.72727273, 141.36363636, 233.54545455, 158.45454545,\n",
       "       116.63636364, 160.36363636, 255.63636364, 235.27272727,\n",
       "       120.54545455, 129.45454545, 241.54545455, 272.27272727,\n",
       "       211.27272727, 173.18181818, 188.09090909, 250.        ,\n",
       "       102.27272727,  53.45454545, 307.        , 188.81818182,\n",
       "       109.09090909, 104.27272727,  36.90909091, 132.36363636,\n",
       "       134.72727273, 116.27272727,  76.54545455, 165.72727273,\n",
       "       260.09090909, 156.54545455, 140.45454545, 112.27272727,\n",
       "       253.36363636, 205.72727273, 204.09090909,  44.63636364,\n",
       "       371.27272727, 254.45454545, 349.81818182, 104.        ,\n",
       "       314.18181818, 226.18181818, 211.63636364, 123.        ,\n",
       "       256.18181818, 240.27272727,  58.81818182, 355.36363636,\n",
       "       118.36363636, 124.        , 390.54545455, 155.36363636,\n",
       "        42.09090909, 193.        , 223.72727273, 140.90909091,\n",
       "        97.36363636, 339.45454545,  39.27272727, 365.81818182,\n",
       "       171.72727273, 154.72727273,  90.81818182, 131.90909091,\n",
       "       160.72727273, 244.18181818, 158.45454545, 119.90909091,\n",
       "       116.63636364,  34.81818182, 175.72727273, 110.81818182,\n",
       "       188.09090909,  56.18181818, 148.        ,  82.09090909,\n",
       "       252.90909091, 363.90909091, 148.72727273, 302.72727273,\n",
       "       229.18181818,  96.81818182, 113.81818182, 312.54545455,\n",
       "       141.54545455, 210.90909091, 199.54545455, 215.18181818,\n",
       "       103.54545455,  41.        , 125.36363636, 252.90909091,\n",
       "       215.09090909, 287.45454545, 208.81818182, 176.27272727,\n",
       "       158.09090909, 137.36363636, 255.27272727, 107.90909091,\n",
       "       103.90909091, 160.45454545, 160.27272727, 174.54545455,\n",
       "       303.90909091, 176.18181818,  93.18181818, 365.81818182,\n",
       "       160.54545455, 110.81818182,  48.27272727, 108.45454545,\n",
       "        82.        , 148.        , 213.36363636, 129.        ,\n",
       "       194.72727273, 274.45454545, 159.63636364, 156.81818182,\n",
       "        60.27272727,  67.63636364, 290.36363636, 157.45454545,\n",
       "       164.54545455, 126.        , 241.09090909,  79.        ,\n",
       "        35.63636364, 113.36363636, 160.72727273, 221.36363636,\n",
       "       206.36363636,  40.72727273,  24.18181818, 320.09090909,\n",
       "        83.27272727,  51.        , 266.81818182, 316.63636364,\n",
       "        88.45454545, 290.36363636, 201.        ,  46.45454545,\n",
       "       288.90909091, 168.54545455, 188.27272727, 361.18181818,\n",
       "       214.36363636, 178.81818182,  25.72727273, 271.90909091,\n",
       "       186.81818182, 199.09090909, 172.81818182, 267.27272727,\n",
       "       165.63636364, 113.90909091, 188.27272727, 182.63636364,\n",
       "       301.72727273, 182.09090909, 308.        , 271.90909091,\n",
       "       117.90909091, 131.27272727, 197.81818182, 111.63636364,\n",
       "       348.27272727, 163.90909091, 360.81818182, 232.81818182,\n",
       "       134.72727273, 127.90909091, 228.63636364, 197.45454545,\n",
       "       291.45454545, 269.45454545, 160.45454545,  84.81818182,\n",
       "       110.81818182, 106.81818182,  81.63636364, 266.18181818,\n",
       "       117.45454545, 253.54545455, 230.63636364, 167.18181818,\n",
       "       155.09090909, 170.90909091, 234.90909091, 126.36363636,\n",
       "        39.45454545, 155.09090909, 164.63636364, 229.36363636,\n",
       "       221.36363636,  95.27272727, 383.27272727,  71.27272727,\n",
       "       116.63636364, 111.27272727,  43.81818182,  24.27272727,\n",
       "       285.81818182, 130.36363636, 171.18181818,  46.63636364,\n",
       "       220.27272727, 256.18181818, 176.54545455, 425.        ,\n",
       "        88.36363636, 122.        ,  89.09090909, 168.72727273,\n",
       "       179.27272727, 130.        , 143.18181818, 208.27272727,\n",
       "       196.45454545, 131.27272727, 156.81818182, 129.90909091,\n",
       "       233.63636364,  63.        ,  26.        , 161.63636364,\n",
       "       201.54545455, 280.72727273, 173.36363636, 115.72727273,\n",
       "       131.81818182, 190.09090909, 127.90909091, 143.81818182,\n",
       "       211.63636364,  99.81818182, 208.63636364, 107.27272727,\n",
       "       113.36363636,  95.27272727,  39.90909091, 219.36363636,\n",
       "        90.63636364,  69.09090909, 316.63636364, 137.        ,\n",
       "       208.81818182, 196.09090909, 182.63636364, 231.09090909])"
      ]
     },
     "execution_count": 77,
     "metadata": {},
     "output_type": "execute_result"
    }
   ],
   "source": [
    "knn_test_pred = knn_mod.predict(x2test)\n",
    "knn_test_pred"
   ]
  },
  {
   "cell_type": "code",
   "execution_count": 78,
   "id": "dc90fe9c",
   "metadata": {},
   "outputs": [
    {
     "name": "stdout",
     "output_type": "stream",
     "text": [
      "Mean Squared Error (MSE): 3297.9010263929617\n",
      "Root Mean Squared Error (RMSE): 57.42735433913843\n",
      "Mean Absolute Error (MAE): 42.906263091746965\n",
      "R-squared (R2): 0.6923993440157535\n"
     ]
    }
   ],
   "source": [
    "mse = mean_squared_error(y2test, knn_test_pred)\n",
    "rmse = np.sqrt(mse)\n",
    "mae = mean_absolute_error(y2test, knn_test_pred)\n",
    "r2 = r2_score(y2test, rf_test_pred)\n",
    "print(f'Mean Squared Error (MSE): {mse}')\n",
    "print(f'Root Mean Squared Error (RMSE): {rmse}')\n",
    "print(f'Mean Absolute Error (MAE): {mae}')\n",
    "print(f'R-squared (R2): {r2}')"
   ]
  },
  {
   "cell_type": "code",
   "execution_count": 79,
   "id": "fef7db70",
   "metadata": {},
   "outputs": [
    {
     "name": "stdout",
     "output_type": "stream",
     "text": [
      "Mean Squared Error (MSE): 2813.85327960163\n",
      "Root Mean Squared Error (RMSE): 53.045765897021695\n",
      "Mean Absolute Error (MAE): 39.96258378718056\n",
      "R-squared (R2): 0.8868678648584155\n"
     ]
    }
   ],
   "source": [
    "mse = mean_squared_error(y2train, knn_train_pred)\n",
    "rmse = np.sqrt(mse)\n",
    "mae = mean_absolute_error(y2train, knn_train_pred)\n",
    "r2 = r2_score(y2train, rf_train_pred)\n",
    "print(f'Mean Squared Error (MSE): {mse}')\n",
    "print(f'Root Mean Squared Error (RMSE): {rmse}')\n",
    "print(f'Mean Absolute Error (MAE): {mae}')\n",
    "print(f'R-squared (R2): {r2}')"
   ]
  },
  {
   "cell_type": "code",
   "execution_count": 94,
   "id": "767f3542",
   "metadata": {},
   "outputs": [
    {
     "name": "stdout",
     "output_type": "stream",
     "text": [
      "Mean Squared Error on Test Set: 3297.9010263929617\n",
      "R2 Score on Test Set: 0.6812390805141755\n"
     ]
    }
   ],
   "source": [
    "best_knn = grid_search.best_estimator_\n",
    "y_pred = best_knn.predict(x2test)\n",
    "mse = mean_squared_error(y2test, y_pred)\n",
    "r2 = r2_score(y2test, y_pred)\n",
    "print(\"Mean Squared Error on Test Set:\", mse)\n",
    "print(\"R2 Score on Test Set:\", r2)\n"
   ]
  },
  {
   "cell_type": "markdown",
   "id": "7988d28c",
   "metadata": {},
   "source": [
    "# NAIVE BAYES Algorithm to predict Owner"
   ]
  },
  {
   "cell_type": "code",
   "execution_count": 83,
   "id": "90e9b329",
   "metadata": {},
   "outputs": [],
   "source": [
    "from sklearn.naive_bayes import GaussianNB"
   ]
  },
  {
   "cell_type": "code",
   "execution_count": 84,
   "id": "e1067972",
   "metadata": {},
   "outputs": [],
   "source": [
    "nb = GaussianNB()"
   ]
  },
  {
   "cell_type": "code",
   "execution_count": 85,
   "id": "a1750505",
   "metadata": {},
   "outputs": [],
   "source": [
    "nb_mod = nb.fit(xtrain, ytrain)"
   ]
  },
  {
   "cell_type": "code",
   "execution_count": 86,
   "id": "6c12bff6",
   "metadata": {},
   "outputs": [
    {
     "data": {
      "text/plain": [
       "array([1, 3, 3, ..., 2, 1, 2], dtype=int64)"
      ]
     },
     "execution_count": 86,
     "metadata": {},
     "output_type": "execute_result"
    }
   ],
   "source": [
    "nb_train_pred = nb_mod.predict(xtrain)\n",
    "nb_train_pred"
   ]
  },
  {
   "cell_type": "code",
   "execution_count": 87,
   "id": "c4b24be5",
   "metadata": {},
   "outputs": [
    {
     "data": {
      "text/plain": [
       "array([1, 4, 1, 1, 2, 3, 1, 1, 4, 4, 1, 2, 2, 4, 4, 4, 1, 1, 1, 1, 1, 4,\n",
       "       1, 2, 2, 2, 1, 2, 1, 1, 1, 4, 1, 1, 0, 4, 1, 1, 2, 1, 1, 2, 1, 3,\n",
       "       4, 2, 1, 2, 1, 1, 1, 1, 1, 2, 2, 1, 1, 1, 4, 1, 1, 2, 1, 0, 2, 2,\n",
       "       2, 2, 1, 4, 1, 1, 4, 1, 2, 1, 1, 1, 2, 1, 2, 1, 1, 1, 2, 1, 1, 0,\n",
       "       1, 2, 1, 1, 1, 2, 1, 2, 2, 2, 2, 1, 1, 2, 1, 1, 4, 1, 4, 4, 1, 2,\n",
       "       1, 1, 2, 1, 1, 2, 4, 1, 1, 1, 4, 4, 1, 1, 1, 1, 4, 2, 1, 2, 1, 1,\n",
       "       1, 0, 1, 1, 2, 2, 1, 1, 1, 1, 1, 1, 1, 1, 4, 1, 2, 1, 1, 4, 2, 1,\n",
       "       1, 1, 1, 2, 1, 2, 1, 1, 2, 1, 4, 1, 1, 1, 1, 2, 1, 1, 1, 1, 1, 2,\n",
       "       1, 1, 1, 4, 1, 0, 2, 1, 1, 1, 4, 2, 1, 4, 1, 1, 1, 1, 2, 1, 1, 1,\n",
       "       1, 2, 1, 1, 1, 2, 1, 1, 2, 1, 4, 1, 4, 1, 1, 1, 1, 4, 1, 2, 2, 2,\n",
       "       3, 2, 2, 4, 1, 1, 4, 2, 2, 2, 3, 0, 1, 0, 2, 2, 2, 1, 4, 2, 1, 0,\n",
       "       1, 1, 2, 2, 0, 1, 2, 2, 4, 1, 1, 1, 2, 1, 4, 1, 2, 1, 1, 2, 4, 1,\n",
       "       1, 4, 1, 4, 0, 1, 2, 1, 3, 0, 1, 1, 2, 4, 1, 2, 2, 1, 2, 1, 4, 1,\n",
       "       1, 0, 1, 0, 1, 4, 2, 1, 1, 3, 1, 2, 3, 1, 2, 1, 4, 2, 1, 4, 1, 4,\n",
       "       1, 1, 1, 1, 2, 3, 1, 2, 1, 1, 2, 1, 1, 1, 1, 1, 1, 1, 2, 1, 2, 1,\n",
       "       1, 1, 1, 1, 1, 1, 1, 4, 1, 2, 4, 2, 2, 2, 1, 2, 2, 4, 1, 1, 4, 2,\n",
       "       4, 0, 1, 1, 1, 4, 2, 1, 2, 2, 1, 1, 1, 2, 1, 1, 0, 1, 1, 4, 1, 2,\n",
       "       1, 1, 4, 1, 2, 2, 1, 4, 2, 0, 1, 1, 2, 4, 1, 2, 1, 1, 2, 1, 2, 1,\n",
       "       4, 2, 2, 4, 2, 1, 1, 1, 2, 2, 0, 1, 1, 4, 1, 2, 4, 1, 1, 1, 1, 2,\n",
       "       3, 2, 1, 2, 2, 1, 3, 4, 2, 1, 1, 1, 1, 2, 4, 2, 0, 2, 2, 2, 1, 2,\n",
       "       1, 1, 2, 1, 1, 1, 0, 2, 2, 1, 2, 2, 1, 1, 1, 0, 1, 1, 2, 2, 1, 2,\n",
       "       4, 1, 3, 4, 1, 1, 1, 4, 1, 1, 0, 2, 3, 1, 0, 1, 1, 2, 2, 1, 2, 1,\n",
       "       1, 1, 1, 1, 1, 2, 1, 2, 1, 1, 2, 2, 1, 1, 1, 2, 1, 1, 4, 2, 1, 1,\n",
       "       1, 3, 1, 4, 1, 0, 1, 1, 4, 1, 2, 1, 2, 1, 2, 2, 1, 4, 1, 2, 3, 1,\n",
       "       1, 1, 2, 2, 2, 1, 1, 1, 2, 1, 1, 1, 2, 0, 2, 2, 2, 2, 1, 1, 4, 4,\n",
       "       4, 1, 1, 4, 2, 2, 1, 0, 2, 3, 0, 4, 2, 2, 2, 1, 2, 1, 1, 4, 2, 2,\n",
       "       1, 2, 4, 4, 4, 2, 1, 2, 2, 2, 2, 3, 2, 2, 2, 2, 1, 1, 2, 1, 2, 1,\n",
       "       1, 1, 1, 4, 1, 2, 1, 1, 1, 1, 2, 1, 2, 1, 2, 1, 3, 1, 2, 1, 4, 0,\n",
       "       1, 1, 2, 3, 2, 1, 1, 1, 1, 1, 2, 1, 2, 2, 2, 1, 1, 4, 1, 1, 4, 1,\n",
       "       2, 2, 2, 2, 2, 1, 1, 1, 2, 2, 2, 0, 4, 1, 4, 1, 1, 2, 2, 1, 2, 4,\n",
       "       1, 1, 4, 1, 2, 1, 1, 1, 1, 2, 4, 2, 1, 1, 1, 1, 2, 4, 1, 1, 1, 2,\n",
       "       1, 1, 1, 1, 2, 1, 2, 2, 1, 2, 2, 4, 1, 0, 1, 1, 1, 1, 2, 2, 4, 1,\n",
       "       2, 0, 2, 1, 2, 4, 2, 2, 2, 1, 3, 4, 2, 1, 2, 1, 1, 1, 2, 2, 1, 2,\n",
       "       1, 1, 2, 1, 1, 1, 1, 2, 1, 1, 1, 1, 1, 1, 2, 1, 1, 4, 1, 3, 1, 1,\n",
       "       2, 4, 0, 1, 2, 1, 1, 2, 2, 1, 1, 2, 2, 1, 1, 4, 1, 1, 2, 1, 1, 1,\n",
       "       1, 1, 1, 4, 4, 1, 1, 2, 1, 1, 4, 2, 4, 2, 1, 2, 2, 2, 1, 0, 1, 1,\n",
       "       2, 1, 2, 1, 1, 1, 1, 1, 1, 1, 2, 0, 2, 1, 1, 2, 1, 0, 4, 4, 1, 1,\n",
       "       1, 2, 1, 2, 2, 1, 4, 2, 1, 1, 1, 1, 1, 2, 1, 4, 1, 3, 2, 4, 0, 1,\n",
       "       1, 1, 1, 1, 2, 2, 1, 1, 2, 1, 1, 1, 2, 1, 1, 1, 1, 3, 1, 1, 2, 1,\n",
       "       1, 2, 1, 1, 2, 2, 4, 2, 2, 1], dtype=int64)"
      ]
     },
     "execution_count": 87,
     "metadata": {},
     "output_type": "execute_result"
    }
   ],
   "source": [
    "nb_test_pred = nb_mod.predict(xtest)\n",
    "nb_test_pred"
   ]
  },
  {
   "cell_type": "code",
   "execution_count": 88,
   "id": "c9c14abe",
   "metadata": {},
   "outputs": [
    {
     "name": "stdout",
     "output_type": "stream",
     "text": [
      "Gaussian NB Training - Accuracy Score: 0.568836405529954\n"
     ]
    }
   ],
   "source": [
    "nb_train_acc = accuracy_score(ytrain, nb_train_pred)\n",
    "print(\"Gaussian NB Training - Accuracy Score: {}\".format(nb_train_acc))"
   ]
  },
  {
   "cell_type": "code",
   "execution_count": 89,
   "id": "1594810c",
   "metadata": {},
   "outputs": [
    {
     "name": "stdout",
     "output_type": "stream",
     "text": [
      "Gaussian NB Testing - Accuracy Score: 0.565668202764977\n"
     ]
    }
   ],
   "source": [
    "nb_test_acc = accuracy_score(ytest, nb_test_pred)\n",
    "print(\"Gaussian NB Testing - Accuracy Score: {}\".format(nb_test_acc))"
   ]
  },
  {
   "cell_type": "code",
   "execution_count": 90,
   "id": "bf07d7f0",
   "metadata": {},
   "outputs": [
    {
     "name": "stdout",
     "output_type": "stream",
     "text": [
      "Gaussian NB Training - Classification Report: \n",
      "               precision    recall  f1-score   support\n",
      "\n",
      "           0       0.10      1.00      0.19        14\n",
      "           1       0.85      0.64      0.73      2270\n",
      "           2       0.40      0.49      0.44       882\n",
      "           3       0.26      0.10      0.15       239\n",
      "           4       0.09      0.61      0.16        67\n",
      "\n",
      "    accuracy                           0.57      3472\n",
      "   macro avg       0.34      0.57      0.33      3472\n",
      "weighted avg       0.68      0.57      0.60      3472\n",
      "\n"
     ]
    }
   ],
   "source": [
    "nb_train_cr = classification_report(ytrain, nb_train_pred)\n",
    "print(\"Gaussian NB Training - Classification Report: \\n\", nb_train_cr)"
   ]
  },
  {
   "cell_type": "code",
   "execution_count": 91,
   "id": "3a7b3bf9",
   "metadata": {},
   "outputs": [
    {
     "name": "stdout",
     "output_type": "stream",
     "text": [
      "Gaussian NB Testing - Classification Report: \n",
      "               precision    recall  f1-score   support\n",
      "\n",
      "           0       0.09      1.00      0.16         3\n",
      "           1       0.84      0.68      0.75       562\n",
      "           2       0.39      0.44      0.42       224\n",
      "           3       0.27      0.09      0.14        65\n",
      "           4       0.02      0.14      0.03        14\n",
      "\n",
      "    accuracy                           0.57       868\n",
      "   macro avg       0.32      0.47      0.30       868\n",
      "weighted avg       0.66      0.57      0.60       868\n",
      "\n"
     ]
    }
   ],
   "source": [
    "nb_test_cr = classification_report(ytest, nb_test_pred)\n",
    "print(\"Gaussian NB Testing - Classification Report: \\n\", nb_test_cr)"
   ]
  },
  {
   "cell_type": "code",
   "execution_count": 92,
   "id": "c50eb226",
   "metadata": {},
   "outputs": [
    {
     "name": "stdout",
     "output_type": "stream",
     "text": [
      "Gaussian NB Training - Confusion Matrix: \n",
      " [[  14    0    0    0    0]\n",
      " [ 117 1464  524   33  132]\n",
      " [   4  228  432   31  187]\n",
      " [   0   31  107   24   77]\n",
      " [   0    5   18    3   41]]\n"
     ]
    }
   ],
   "source": [
    "nb_train_cm = confusion_matrix(ytrain, nb_train_pred)\n",
    "print(\"Gaussian NB Training - Confusion Matrix: \\n\", nb_train_cm)"
   ]
  },
  {
   "cell_type": "code",
   "execution_count": 93,
   "id": "96e5351b",
   "metadata": {},
   "outputs": [
    {
     "name": "stdout",
     "output_type": "stream",
     "text": [
      "Gaussian NB Testing - Confusion Matrix: \n",
      " [[  3   0   0   0   0]\n",
      " [ 30 381 122   5  24]\n",
      " [  2  66  99   8  49]\n",
      " [  0   9  23   6  27]\n",
      " [  0   0   9   3   2]]\n"
     ]
    }
   ],
   "source": [
    "nb_test_cm = confusion_matrix(ytest, nb_test_pred)\n",
    "print(\"Gaussian NB Testing - Confusion Matrix: \\n\", nb_test_cm)"
   ]
  },
  {
   "cell_type": "code",
   "execution_count": null,
   "id": "dd602867",
   "metadata": {},
   "outputs": [],
   "source": []
  }
 ],
 "metadata": {
  "kernelspec": {
   "display_name": "Python 3 (ipykernel)",
   "language": "python",
   "name": "python3"
  },
  "language_info": {
   "codemirror_mode": {
    "name": "ipython",
    "version": 3
   },
   "file_extension": ".py",
   "mimetype": "text/x-python",
   "name": "python",
   "nbconvert_exporter": "python",
   "pygments_lexer": "ipython3",
   "version": "3.11.5"
  }
 },
 "nbformat": 4,
 "nbformat_minor": 5
}
